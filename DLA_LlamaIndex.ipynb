{
  "nbformat": 4,
  "nbformat_minor": 0,
  "metadata": {
    "colab": {
      "provenance": [],
      "toc_visible": true,
      "authorship_tag": "ABX9TyO1lJbCAMuBCan1Zc4niJsP",
      "include_colab_link": true
    },
    "kernelspec": {
      "name": "python3",
      "display_name": "Python 3"
    },
    "language_info": {
      "name": "python"
    }
  },
  "cells": [
    {
      "cell_type": "markdown",
      "metadata": {
        "id": "view-in-github",
        "colab_type": "text"
      },
      "source": [
        "<a href=\"https://colab.research.google.com/github/dcpatton/GenerativeAI/blob/main/DLA_LlamaIndex.ipynb\" target=\"_parent\"><img src=\"https://colab.research.google.com/assets/colab-badge.svg\" alt=\"Open In Colab\"/></a>"
      ]
    },
    {
      "cell_type": "markdown",
      "source": [
        "# Retrieval Augmented Generation (RAG)\n",
        "---\n",
        "\n"
      ],
      "metadata": {
        "id": "s9Bdy2U9iH7h"
      }
    },
    {
      "cell_type": "markdown",
      "source": [
        "Retrieval Augmented Generation (RAG) is a technique that enhances the accuracy and reliability of generative AI models by incorporating information retrieved from external sources. It addresses the limitations of traditional Large Language Models (LLMs), which can sometimes generate factually incorrect or misleading information.\n",
        "\n",
        "**How RAG works**:\n",
        "\n",
        "1. **Indexing**: The relevant data is transformed into embeddings, numerical representations that capture the semantic meaning of the text.\n",
        "\n",
        "\n",
        "2. **Retrieval**: When a user query is received, the system retrieves the most relevant documents from the indexed data using a similarity search algorithm.\n",
        "\n",
        "3. **Augmentation**: The retrieved information is integrated into the original query, creating a new prompt for the LLM. This prompt incorporates the relevant context and factual information.\n",
        "\n",
        "4. **Generation**: The LLM processes the augmented prompt and generates a more accurate and informative response.\n",
        "\n",
        "**Benefits of RAG**:\n",
        "\n",
        "* **Improved accuracy**: By grounding the LLM's responses in factual information, RAG helps to reduce the risk of hallucinations and generate more reliable outputs.\n",
        "\n",
        "* **Enhanced relevance**: RAG allows the LLM to tailor its responses to the specific context of the user's query, leading to more relevant and helpful answers.\n",
        "\n",
        "* **Up-to-date information**: RAG enables the LLM to access and incorporate the latest information from external sources, ensuring that its responses are always current.\n",
        "\n",
        "* **Domain-specific knowledge**: RAG can be used to provide LLMs with access to specialized knowledge bases, allowing them to generate more accurate and informative responses in specific domains.\n",
        "\n",
        "---\n",
        "\n",
        "https://docs.llamaindex.ai\n",
        "\n",
        "**LlamaIndex**, formerly known as GPT Index, is a data framework designed to facilitate the connection between large language models (LLMs) and external data sources. It provides tools to index various data types, such as documents, databases, and APIs, enabling LLMs to interact with and retrieve information from these sources more effectively. The framework supports the creation of indices that can be queried by LLMs, enhancing their ability to access and utilize external data in a structured manner. This capability is particularly useful for applications requiring the integration of LLMs with specific datasets or knowledge bases."
      ],
      "metadata": {
        "id": "KHP38QBwcTQ0"
      }
    },
    {
      "cell_type": "code",
      "source": [
        "!pip install llama-index==0.11.18 -q\n",
        "!pip install chromadb==0.5.13 -q\n",
        "!pip install llama_index.vector_stores.chroma==0.2.1 -q"
      ],
      "metadata": {
        "colab": {
          "base_uri": "https://localhost:8080/"
        },
        "id": "vUKNP4F5cbHO",
        "outputId": "e382d465-041f-4f18-d656-5484657924bd"
      },
      "execution_count": null,
      "outputs": [
        {
          "output_type": "stream",
          "name": "stdout",
          "text": [
            "\u001b[2K   \u001b[90m━━━━━━━━━━━━━━━━━━━━━━━━━━━━━━━━━━━━━━━━\u001b[0m \u001b[32m1.6/1.6 MB\u001b[0m \u001b[31m19.9 MB/s\u001b[0m eta \u001b[36m0:00:00\u001b[0m\n",
            "\u001b[2K   \u001b[90m━━━━━━━━━━━━━━━━━━━━━━━━━━━━━━━━━━━━━━━━\u001b[0m \u001b[32m1.2/1.2 MB\u001b[0m \u001b[31m26.3 MB/s\u001b[0m eta \u001b[36m0:00:00\u001b[0m\n",
            "\u001b[2K   \u001b[90m━━━━━━━━━━━━━━━━━━━━━━━━━━━━━━━━━━━━━━━━\u001b[0m \u001b[32m189.0/189.0 kB\u001b[0m \u001b[31m8.8 MB/s\u001b[0m eta \u001b[36m0:00:00\u001b[0m\n",
            "\u001b[2K   \u001b[90m━━━━━━━━━━━━━━━━━━━━━━━━━━━━━━━━━━━━━━━━\u001b[0m \u001b[32m295.8/295.8 kB\u001b[0m \u001b[31m7.8 MB/s\u001b[0m eta \u001b[36m0:00:00\u001b[0m\n",
            "\u001b[2K   \u001b[90m━━━━━━━━━━━━━━━━━━━━━━━━━━━━━━━━━━━━━━━━\u001b[0m \u001b[32m1.2/1.2 MB\u001b[0m \u001b[31m28.4 MB/s\u001b[0m eta \u001b[36m0:00:00\u001b[0m\n",
            "\u001b[2K   \u001b[90m━━━━━━━━━━━━━━━━━━━━━━━━━━━━━━━━━━━━━━━━\u001b[0m \u001b[32m49.5/49.5 kB\u001b[0m \u001b[31m2.5 MB/s\u001b[0m eta \u001b[36m0:00:00\u001b[0m\n",
            "\u001b[2K     \u001b[90m━━━━━━━━━━━━━━━━━━━━━━━━━━━━━━━━━━━━━━━━\u001b[0m \u001b[32m67.3/67.3 kB\u001b[0m \u001b[31m5.4 MB/s\u001b[0m eta \u001b[36m0:00:00\u001b[0m\n",
            "\u001b[?25h  Installing build dependencies ... \u001b[?25l\u001b[?25hdone\n",
            "  Getting requirements to build wheel ... \u001b[?25l\u001b[?25hdone\n",
            "  Preparing metadata (pyproject.toml) ... \u001b[?25l\u001b[?25hdone\n",
            "\u001b[2K   \u001b[90m━━━━━━━━━━━━━━━━━━━━━━━━━━━━━━━━━━━━━━━━\u001b[0m \u001b[32m603.0/603.0 kB\u001b[0m \u001b[31m26.9 MB/s\u001b[0m eta \u001b[36m0:00:00\u001b[0m\n",
            "\u001b[2K   \u001b[90m━━━━━━━━━━━━━━━━━━━━━━━━━━━━━━━━━━━━━━━━\u001b[0m \u001b[32m2.4/2.4 MB\u001b[0m \u001b[31m36.8 MB/s\u001b[0m eta \u001b[36m0:00:00\u001b[0m\n",
            "\u001b[2K   \u001b[90m━━━━━━━━━━━━━━━━━━━━━━━━━━━━━━━━━━━━━━━━\u001b[0m \u001b[32m278.6/278.6 kB\u001b[0m \u001b[31m18.6 MB/s\u001b[0m eta \u001b[36m0:00:00\u001b[0m\n",
            "\u001b[2K   \u001b[90m━━━━━━━━━━━━━━━━━━━━━━━━━━━━━━━━━━━━━━━━\u001b[0m \u001b[32m94.9/94.9 kB\u001b[0m \u001b[31m7.1 MB/s\u001b[0m eta \u001b[36m0:00:00\u001b[0m\n",
            "\u001b[2K   \u001b[90m━━━━━━━━━━━━━━━━━━━━━━━━━━━━━━━━━━━━━━━━\u001b[0m \u001b[32m1.9/1.9 MB\u001b[0m \u001b[31m45.6 MB/s\u001b[0m eta \u001b[36m0:00:00\u001b[0m\n",
            "\u001b[2K   \u001b[90m━━━━━━━━━━━━━━━━━━━━━━━━━━━━━━━━━━━━━━━━\u001b[0m \u001b[32m93.2/93.2 kB\u001b[0m \u001b[31m6.8 MB/s\u001b[0m eta \u001b[36m0:00:00\u001b[0m\n",
            "\u001b[2K   \u001b[90m━━━━━━━━━━━━━━━━━━━━━━━━━━━━━━━━━━━━━━━━\u001b[0m \u001b[32m13.3/13.3 MB\u001b[0m \u001b[31m77.1 MB/s\u001b[0m eta \u001b[36m0:00:00\u001b[0m\n",
            "\u001b[2K   \u001b[90m━━━━━━━━━━━━━━━━━━━━━━━━━━━━━━━━━━━━━━━━\u001b[0m \u001b[32m55.8/55.8 kB\u001b[0m \u001b[31m3.9 MB/s\u001b[0m eta \u001b[36m0:00:00\u001b[0m\n",
            "\u001b[2K   \u001b[90m━━━━━━━━━━━━━━━━━━━━━━━━━━━━━━━━━━━━━━━━\u001b[0m \u001b[32m54.8/54.8 kB\u001b[0m \u001b[31m4.2 MB/s\u001b[0m eta \u001b[36m0:00:00\u001b[0m\n",
            "\u001b[2K   \u001b[90m━━━━━━━━━━━━━━━━━━━━━━━━━━━━━━━━━━━━━━━━\u001b[0m \u001b[32m63.8/63.8 kB\u001b[0m \u001b[31m4.9 MB/s\u001b[0m eta \u001b[36m0:00:00\u001b[0m\n",
            "\u001b[2K   \u001b[90m━━━━━━━━━━━━━━━━━━━━━━━━━━━━━━━━━━━━━━━━\u001b[0m \u001b[32m442.1/442.1 kB\u001b[0m \u001b[31m25.5 MB/s\u001b[0m eta \u001b[36m0:00:00\u001b[0m\n",
            "\u001b[2K   \u001b[90m━━━━━━━━━━━━━━━━━━━━━━━━━━━━━━━━━━━━━━━━\u001b[0m \u001b[32m319.7/319.7 kB\u001b[0m \u001b[31m20.2 MB/s\u001b[0m eta \u001b[36m0:00:00\u001b[0m\n",
            "\u001b[2K   \u001b[90m━━━━━━━━━━━━━━━━━━━━━━━━━━━━━━━━━━━━━━━━\u001b[0m \u001b[32m73.2/73.2 kB\u001b[0m \u001b[31m5.0 MB/s\u001b[0m eta \u001b[36m0:00:00\u001b[0m\n",
            "\u001b[2K   \u001b[90m━━━━━━━━━━━━━━━━━━━━━━━━━━━━━━━━━━━━━━━━\u001b[0m \u001b[32m3.8/3.8 MB\u001b[0m \u001b[31m75.6 MB/s\u001b[0m eta \u001b[36m0:00:00\u001b[0m\n",
            "\u001b[2K   \u001b[90m━━━━━━━━━━━━━━━━━━━━━━━━━━━━━━━━━━━━━━━━\u001b[0m \u001b[32m442.6/442.6 kB\u001b[0m \u001b[31m26.7 MB/s\u001b[0m eta \u001b[36m0:00:00\u001b[0m\n",
            "\u001b[2K   \u001b[90m━━━━━━━━━━━━━━━━━━━━━━━━━━━━━━━━━━━━━━━━\u001b[0m \u001b[32m168.2/168.2 kB\u001b[0m \u001b[31m12.0 MB/s\u001b[0m eta \u001b[36m0:00:00\u001b[0m\n",
            "\u001b[2K   \u001b[90m━━━━━━━━━━━━━━━━━━━━━━━━━━━━━━━━━━━━━━━━\u001b[0m \u001b[32m46.0/46.0 kB\u001b[0m \u001b[31m3.2 MB/s\u001b[0m eta \u001b[36m0:00:00\u001b[0m\n",
            "\u001b[2K   \u001b[90m━━━━━━━━━━━━━━━━━━━━━━━━━━━━━━━━━━━━━━━━\u001b[0m \u001b[32m86.8/86.8 kB\u001b[0m \u001b[31m6.4 MB/s\u001b[0m eta \u001b[36m0:00:00\u001b[0m\n",
            "\u001b[?25h  Building wheel for pypika (pyproject.toml) ... \u001b[?25l\u001b[?25hdone\n",
            "\u001b[31mERROR: pip's dependency resolver does not currently take into account all the packages that are installed. This behaviour is the source of the following dependency conflicts.\n",
            "tensorflow 2.17.1 requires protobuf!=4.21.0,!=4.21.1,!=4.21.2,!=4.21.3,!=4.21.4,!=4.21.5,<5.0.0dev,>=3.20.3, but you have protobuf 5.29.0 which is incompatible.\n",
            "tensorflow-metadata 1.13.1 requires protobuf<5,>=3.20.3, but you have protobuf 5.29.0 which is incompatible.\u001b[0m\u001b[31m\n",
            "\u001b[0m"
          ]
        }
      ]
    },
    {
      "cell_type": "code",
      "source": [
        "from llama_index.core.evaluation import FaithfulnessEvaluator, AnswerRelevancyEvaluator, ContextRelevancyEvaluator"
      ],
      "metadata": {
        "id": "FPs2BUEv4lr3"
      },
      "execution_count": null,
      "outputs": []
    },
    {
      "cell_type": "code",
      "source": [
        "# setup OpenAI api_key\n",
        "import os\n",
        "import getpass\n",
        "\n",
        "if not os.environ.get('OPENAI_API_KEY'):\n",
        "  os.environ['OPENAI_API_KEY'] = getpass.getpass(\"Enter the OpenAI API Key(which starts with sk-): \")\n",
        "# print(os.environ.get('OPENAI_API_KEY'))"
      ],
      "metadata": {
        "colab": {
          "base_uri": "https://localhost:8080/"
        },
        "id": "6Hqrgo0Abvxc",
        "outputId": "0b4ac54a-9048-4e6b-b556-11f325f6d920"
      },
      "execution_count": null,
      "outputs": [
        {
          "name": "stdout",
          "output_type": "stream",
          "text": [
            "Enter the OpenAI API Key(which starts with sk-): ··········\n"
          ]
        }
      ]
    },
    {
      "cell_type": "code",
      "execution_count": null,
      "metadata": {
        "id": "3G1GMIiybrQX"
      },
      "outputs": [],
      "source": [
        "from llama_index.core import Settings\n",
        "from llama_index.llms.openai import OpenAI"
      ]
    },
    {
      "cell_type": "code",
      "source": [
        "Settings.llm = OpenAI(temperature=0.1, model=\"gpt-3.5-turbo\")"
      ],
      "metadata": {
        "id": "zOhKtNkVbvuo"
      },
      "execution_count": null,
      "outputs": []
    },
    {
      "cell_type": "code",
      "source": [
        "# https://pypi.org/project/nest-asyncio/\n",
        "import nest_asyncio\n",
        "nest_asyncio.apply()"
      ],
      "metadata": {
        "id": "gro-qC1FwlXQ"
      },
      "execution_count": null,
      "outputs": []
    },
    {
      "cell_type": "markdown",
      "source": [
        "## Get some data\n",
        "\n",
        "https://docs.llamaindex.ai/en/stable/module_guides/deploying/query_engine/modules/\n",
        "\n",
        "documents, databases, pandas, etc."
      ],
      "metadata": {
        "id": "wILphRvA7X8P"
      }
    },
    {
      "cell_type": "code",
      "source": [
        "# upload the pdf file (https://www.usda.gov/oce/commodity/wasde/wasde1024.pdf)\n",
        "!wget https://www.usda.gov/oce/commodity/wasde/wasde1024.pdf\n",
        "# from google.colab import files\n",
        "# uploaded = files.upload()\n",
        "# path_to_file = '/content/' + list(uploaded.keys())[0]\n",
        "# print(path_to_file)\n",
        "path_to_file = '/content/wasde1024.pdf'"
      ],
      "metadata": {
        "colab": {
          "base_uri": "https://localhost:8080/"
        },
        "id": "z4EUc2zDbv0I",
        "outputId": "8f80b871-6ce5-4882-97e0-f3b5af6452d1"
      },
      "execution_count": null,
      "outputs": [
        {
          "output_type": "stream",
          "name": "stdout",
          "text": [
            "--2024-12-01 20:58:56--  https://www.usda.gov/oce/commodity/wasde/wasde1024.pdf\n",
            "Resolving www.usda.gov (www.usda.gov)... 23.218.64.116, 2a02:26f0:1180:19e::500, 2a02:26f0:1180:193::500\n",
            "Connecting to www.usda.gov (www.usda.gov)|23.218.64.116|:443... connected.\n",
            "HTTP request sent, awaiting response... 200 OK\n",
            "Length: 851387 (831K) [application/pdf]\n",
            "Saving to: ‘wasde1024.pdf’\n",
            "\n",
            "wasde1024.pdf       100%[===================>] 831.43K  --.-KB/s    in 0.03s   \n",
            "\n",
            "2024-12-01 20:58:57 (27.8 MB/s) - ‘wasde1024.pdf’ saved [851387/851387]\n",
            "\n"
          ]
        }
      ]
    },
    {
      "cell_type": "markdown",
      "source": [
        "### Indexing"
      ],
      "metadata": {
        "id": "7e6cTFWFCDWj"
      }
    },
    {
      "cell_type": "markdown",
      "source": [
        "Next, we want to turn our document(s) into vectors (embeddings) and it will be nice to not have to do this repeatedly in the future.LlamaIndex offers multiple integration points with vector stores / vector databases:\n",
        "\n",
        "1. LlamaIndex can use a vector store itself as an index. Like any other index, this index can store documents and be used to answer queries.\n",
        "\n",
        "2. LlamaIndex can load data from vector stores, similar to any other data connector. This data can then be used within LlamaIndex data structures.\n",
        "\n",
        "https://docs.llamaindex.ai/en/stable/community/integrations/vector_stores/\n",
        "\n",
        "* Alibaba Cloud OpenSearch (AlibabaCloudOpenSearchStore)\n",
        "* Amazon Neptune - Neptune Analytics (NeptuneAnalyticsVectorStore)\n",
        "* Apache Cassandra® and Astra DB through CQL (CassandraVectorStore)\n",
        "* Astra DB (AstraDBVectorStore)\n",
        "* AWS Document DB (AWSDocDbVectorStore)\n",
        "* Azure AI Search (AzureAISearchVectorStore)\n",
        "* Chroma (ChromaVectorStore)\n",
        "* ClickHouse (ClickHouseVectorStore)\n",
        "* Couchbase (CouchbaseVectorStore)\n",
        "* DashVector (DashVectorStore)\n",
        "* DeepLake (DeepLakeVectorStore)\n",
        "* DocArray (DocArrayHnswVectorStore, DocArrayInMemoryVectorStore)\n",
        "* Elasticsearch (ElasticsearchStore)\n",
        "* Epsilla (EpsillaVectorStore)\n",
        "* Faiss (FaissVectorStore)\n",
        "* Hnswlib (HnswlibVectorStore)\n",
        "* txtai (TxtaiVectorStore)\n",
        "* Jaguar (JaguarVectorStore)\n",
        "* Lantern (LanternVectorStore)\n",
        "* MariaDB (MariaDBVectorStore)\n",
        "* Milvus (MilvusVectorStore)\n",
        "* MongoDB Atlas (MongoDBAtlasVectorSearch)\n",
        "* MyScale (MyScaleVectorStore)\n",
        "* Neo4j (Neo4jVectorIndex)\n",
        "* OceanBase (OceanBaseVectorStore)\n",
        "* Pinecone (PineconeVectorStore)\n",
        "* Qdrant (QdrantVectorStore)\n",
        "* LanceDB (LanceDBVectorStore)\n",
        "* Redis (RedisVectorStore)\n",
        "* Relyt (RelytVectorStore)\n",
        "* Supabase (SupabaseVectorStore)\n",
        "* Tablestore (Tablestore)\n",
        "* TiDB (TiDBVectorStore)\n",
        "* TimeScale (TimescaleVectorStore)\n",
        "* Upstash (UpstashVectorStore)\n",
        "* Vertex AI Vector Search (VertexAIVectorStore)\n",
        "* Weaviate (WeaviateVectorStore)\n",
        "* Zep (ZepVectorStore)\n",
        "* Zilliz (MilvusVectorStore)\n",
        "\n",
        "\n",
        "\n",
        "We will used ChromaDB as a vector store.\n",
        "\n",
        "Knowledge Graphs https://docs.llamaindex.ai/en/stable/module_guides/indexing/lpg_index_guide/"
      ],
      "metadata": {
        "id": "HwJn7OdONg6Z"
      }
    },
    {
      "cell_type": "code",
      "source": [
        "import chromadb\n",
        "from llama_index.vector_stores.chroma import ChromaVectorStore\n",
        "from llama_index.core import StorageContext\n",
        "db = chromadb.PersistentClient(path=\"/content/chroma_db\")\n",
        "chroma_collection = db.get_or_create_collection(\"wasde\")\n",
        "vector_store = ChromaVectorStore(chroma_collection=chroma_collection)\n",
        "storage_context = StorageContext.from_defaults(vector_store=vector_store)"
      ],
      "metadata": {
        "id": "dp9fpZoQbv2e"
      },
      "execution_count": null,
      "outputs": []
    },
    {
      "cell_type": "code",
      "source": [
        "from llama_index.core import SimpleDirectoryReader, VectorStoreIndex\n",
        "# set to True the first time you run this code\n",
        "ingest_docs = True\n",
        "if ingest_docs:\n",
        "    documents = SimpleDirectoryReader(input_files=[path_to_file]).load_data()\n",
        "    index = VectorStoreIndex.from_documents(documents, storage_context=storage_context)\n",
        "else:\n",
        "    index = VectorStoreIndex.from_vector_store(vector_store, storage_context=storage_context)"
      ],
      "metadata": {
        "id": "9L1qc00el5Zs"
      },
      "execution_count": null,
      "outputs": []
    },
    {
      "cell_type": "markdown",
      "source": [
        "The from_documents method above splits the documents into chunks and parses them into Node objects which are lightweight abstractions over text strings that keep track of metadata and relationships. The text strings are embedded. By default, LlamaIndex uses text-embedding-ada-002 from OpenAI.\n",
        "\n",
        "There are many ways to control how the data is loaded and indexed. See https://docs.llamaindex.ai/en/stable/module_guides/indexing/vector_store_index/\n",
        "\n",
        "---"
      ],
      "metadata": {
        "id": "m2O7-6QURz4p"
      }
    },
    {
      "cell_type": "markdown",
      "source": [
        "### Retrieval, Augmentation, Generation\n",
        "\n",
        "![vectorstore_query.png](data:image/png;base64,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)\n",
        "\n",
        "* **Retrieval** is when you find and return the most relevant documents for your query from your Index. As previously discussed in indexing, the most common type of retrieval is \"top-k\" semantic retrieval, but there are many other retrieval strategies.\n",
        "\n",
        "* **Postprocessing** is when the Nodes retrieved are optionally reranked, transformed, or filtered, for instance by requiring that they have specific metadata such as keywords attached.\n",
        "\n",
        "* **Response synthesis** is when your query, your most-relevant data and your prompt are combined and sent to your LLM to return a response."
      ],
      "metadata": {
        "id": "XLSPQPdaCI7V"
      }
    },
    {
      "cell_type": "code",
      "source": [
        "query_engine = index.as_query_engine()\n",
        "query = \"Why are global rice supplies raised by 5.6 million tons this month?\"\n",
        "response = query_engine.query(query)\n",
        "print(response)"
      ],
      "metadata": {
        "colab": {
          "base_uri": "https://localhost:8080/"
        },
        "id": "y0F2CbyJmGmO",
        "outputId": "c22cc3f0-b57d-4e40-9f95-2d601db4590b"
      },
      "execution_count": null,
      "outputs": [
        {
          "output_type": "stream",
          "name": "stdout",
          "text": [
            "Global rice supplies are raised by 5.6 million tons this month primarily due to larger beginning stocks and increased production for India. The record output in India, reaching 142.0 million tons, is attributed to factors such as an above-average monsoon season and more rice planted at the expense of cotton.\n"
          ]
        }
      ]
    },
    {
      "cell_type": "code",
      "source": [
        "response.source_nodes"
      ],
      "metadata": {
        "colab": {
          "base_uri": "https://localhost:8080/"
        },
        "id": "ASBpY_G3ZePC",
        "outputId": "92a83dcf-9645-4100-c8e9-53697c090005"
      },
      "execution_count": null,
      "outputs": [
        {
          "output_type": "execute_result",
          "data": {
            "text/plain": [
              "[NodeWithScore(node=TextNode(id_='21ed1451-3b12-4d5f-9d83-df05744dbedf', embedding=None, metadata={'page_label': '2', 'file_name': 'wasde1024.pdf', 'file_path': '/content/wasde1024.pdf', 'file_type': 'application/pdf', 'file_size': 851387, 'creation_date': '2024-12-01', 'last_modified_date': '2024-10-11'}, excluded_embed_metadata_keys=['file_name', 'file_type', 'file_size', 'creation_date', 'last_modified_date', 'last_accessed_date'], excluded_llm_metadata_keys=['file_name', 'file_type', 'file_size', 'creation_date', 'last_modified_date', 'last_accessed_date'], relationships={<NodeRelationship.SOURCE: '1'>: RelatedNodeInfo(node_id='9f589ffb-a2de-407e-a071-571d75074bd6', node_type=<ObjectType.DOCUMENT: '4'>, metadata={'page_label': '2', 'file_name': 'wasde1024.pdf', 'file_path': '/content/wasde1024.pdf', 'file_type': 'application/pdf', 'file_size': 851387, 'creation_date': '2024-12-01', 'last_modified_date': '2024-10-11'}, hash='e1423120c569c3157c5a524bb7c92f7ee69d4176825779c3eccec5b51256049c')}, text='WASDE- 653-2 \\n \\nproduction is down with cuts for Russia, the EU, and United Kingdom partly offset by \\nincreases for Argentina and India.   \\nMajor global coarse grain trade changes for 2024/25 include lower corn exports for Ukraine and Russia with an increase for the United States.  Corn imports are reduced for China and Iran but raised for Egypt and the Philippines.  Foreign corn ending stocks  are reduced slightly \\nto 255.8 million  tons, mostly reflecting a reduction for China that is partly offset by increases \\nfor Argentina and Mexico.  World corn ending stocks, at 306.5 million tons, are down 1.8 million.    \\nRICE : The outlook for 2024/25 U.S. rice this month is for slightly larger supplies, unchanged \\ndomestic use and exports, and slightly higher ending stocks.  Supplies are raised on higher production as imports are unchanged.  The NASS October Crop Production report raised \\n2024/25 production by 0.1 million cwt to 219.8 million, all on a higher yield.  The average all rice yield is forecast at 7,590 pounds per acre, up 2 pounds from last month.  Long- grain \\nproduction is forecast at 166.8 million cwt and combine d medium - and short -grain production \\nat 53.0 million.  Projected 2024/25 all rice ending stocks are raised by 0.1 million cwt to 45.7 \\nmillion, up 16 percent from last year.  The 2024/25 all rice season- average farm price is \\nunchanged at $15.60 per cwt.  \\nThe 2024/25 global outlook this month is for higher supplies, consumption, trade, and ending \\nstocks.  Supplies are raised 5.6 million tons to 710.3 million, primarily on larger beginning stocks and production for India, where production is raised to a record 142.0 million tons.  An above- average monsoon season and more rice planted at the expense of cotton are factors \\nbehind the record output.  World 2024/25 consumption is raised 0.6 million tons to a record 528.1 million tons on increases in several countr ies more than offsetting a 1.0 -million -ton \\nreduction for India.  Global 2024/25 trade is 2.2 million tons higher at 56.5 million on larger exports for India, which are raised 3.0 million tons to 21.0 million.  India’s exports are higher on the removal of s everal export restrictions, including its export ban on non- basmati white \\nrice at the end of September.  Exports for Pakistan, Thailand, and Vietnam are all reduced \\nwith the removal of India’s export ban.  All these exporters had larger exports for 2023/24, mostly in response to India’s export restrictions.  Projected world ending stocks are raised 5.0 million tons to 182.2 million, primarily on higher stocks for India, where they are increased 4.0 million tons to a record 43.0 million.   \\nOILSEEDS :  U.S. oilseed production for 2024/25 is forecast at 134.4 million tons, down 0.3 \\nmillion from last month with lower soybean, cottonseed, peanut, and sunflowerseed production partly offset by higher canola production. Soybean production is forecast at 4.6 billion bushels, down 4 million on lower yields. Harvested area is unchanged at 86.3 million \\nacres. The soybean yield is projected at 53.1 bushels per acre, down 0.1 bushels from the September forecast. With lower production partly offset by slightly higher beginning stocks, supplies are lowered 2.0 million bushels to 4.9 billion. With a slightly lower residual and no change to exports and crush, ending stocks are unchanged from last month at 550 million bushels.  \\nThe U.S. season -average soybean price for 2024/25 is unchanged at $10.80 per bushel. \\nSoybean meal and oil prices are also unchanged at $320 per short ton and 42 cents per pound, respectively.', mimetype='text/plain', start_char_idx=0, end_char_idx=3606, text_template='{metadata_str}\\n\\n{content}', metadata_template='{key}: {value}', metadata_seperator='\\n'), score=0.7235795007218233),\n",
              " NodeWithScore(node=TextNode(id_='1b4a87f5-8f43-4bbc-9ac8-2bd5372eda94', embedding=None, metadata={'page_label': '24', 'file_name': 'wasde1024.pdf', 'file_path': '/content/wasde1024.pdf', 'file_type': 'application/pdf', 'file_size': 851387, 'creation_date': '2024-12-01', 'last_modified_date': '2024-10-11'}, excluded_embed_metadata_keys=['file_name', 'file_type', 'file_size', 'creation_date', 'last_modified_date', 'last_accessed_date'], excluded_llm_metadata_keys=['file_name', 'file_type', 'file_size', 'creation_date', 'last_modified_date', 'last_accessed_date'], relationships={<NodeRelationship.SOURCE: '1'>: RelatedNodeInfo(node_id='789b243a-c5dd-442c-9348-ba8b1ba3d724', node_type=<ObjectType.DOCUMENT: '4'>, metadata={'page_label': '24', 'file_name': 'wasde1024.pdf', 'file_path': '/content/wasde1024.pdf', 'file_type': 'application/pdf', 'file_size': 851387, 'creation_date': '2024-12-01', 'last_modified_date': '2024-10-11'}, hash='159f03c6671a2316f6eed272589729ed719e38600e337b428f1c149b8823ec09'), <NodeRelationship.NEXT: '3'>: RelatedNodeInfo(node_id='2b6482bc-f7a9-4547-848b-411dd65a3b96', node_type=<ObjectType.TEXT: '1'>, metadata={}, hash='5506843a16ee9b50d81f85935e3b1a8ed46bd8f74bd1920540d9fd68b4fedaa2')}, text='October 2024  \\n  \\n   \\n WASDE - 653 - 24 \\n  \\n   \\nWorld Rice Supply and Use  (Milled Basis)  1/  \\n  \\n   \\n(Million Metric Tons)  \\n  \\n   \\n2022/23  Beginning  \\nStocks  Production  Imports  Total /2  \\nDomestic  Exports  Ending  \\nStocks  \\nWorld  3/  183.54  516.02  56.56  519.99  54.64  179.58  \\n    World Less China  70.54  370.08  52.17  364.99  52.90  72.98  \\nUnited States  1.26 5.08 1.27 4.60 2.05 0.96 \\nTotal Foreign  182.28  510.94  55.29  515.39  52.58  178.62  \\n    Major Exporters  4/  44.44  202.93  2.81 163.04  42.54  44.60  \\n        Burma  1.08 11.80  0.01 10.20  1.58 1.11 \\n        India 34.00  135.76  0.00 114.51  20.25  35.00  \\n        Pakistan  2.38 7.32 0.01 3.93 3.76 2.02 \\n        Thailand  4.13 20.91  0.05 12.50  8.74 3.85 \\n        Vietnam  2.86 27.14  2.75 21.90  8.23 2.62 \\n    Major Importers  5/  125.49  238.77  23.40  263.79  2.16 121.70  \\n        China  113.00  145.95  4.38 154.99  1.74 106.60  \\n        European Union  6/  0.91 1.29 2.31 3.30 0.39 0.81 \\n        Indonesia  2.90 33.90  3.50 35.60  0.00 4.70 \\n        Nigeria  2.05 5.36 2.28 7.50 0.00 2.18 \\n        Philippines  3.10 12.63  3.75 16.10  0.00 3.38 \\n        Sel. Mideast  7/  1.16 2.01 4.46 6.35 0.00 1.27 \\n    Selected Other        \\n        Brazil  0.90 6.82 1.04 7.00 1.15 0.62 \\n        C. Amer & Carib  8/  0.51 1.53 1.98 3.35 0.05 0.62 \\n        Egypt  0.61 3.60 0.39 4.00 0.01 0.60 \\n        Japan  1.90 7.48 0.66 8.15 0.08 1.81 \\n        Mexico  0.14 0.14 0.78 0.98 0.00 0.09 \\n        South Korea  1.33 3.76 0.26 3.88 0.06 1.43 \\n       \\n   \\n   \\n2023/24 Est.', mimetype='text/plain', start_char_idx=2, end_char_idx=1551, text_template='{metadata_str}\\n\\n{content}', metadata_template='{key}: {value}', metadata_seperator='\\n'), score=0.7220365886778904)]"
            ]
          },
          "metadata": {},
          "execution_count": 11
        }
      ]
    },
    {
      "cell_type": "markdown",
      "source": [
        "## Evaluation\n",
        "\n",
        "Motivation: How good is my RAG system? Do changes in indexing, retrieval, augmentation, and generation improve it?\n",
        "\n",
        "Many evaluators available. See llamaindex docs.\n",
        "\n",
        "Consider using more capable LLM as the judge LLM for the evaluator.\n",
        "\n",
        "https://open.substack.com/pub/cameronrwolfe/p/finetuned-judge?r=nuti5&utm_campaign=post&utm_medium=email"
      ],
      "metadata": {
        "id": "W7bW6116Y_UJ"
      }
    },
    {
      "cell_type": "code",
      "source": [
        "'''\n",
        "Evaluates the relevancy of retrieved contexts to a query.\n",
        "'''\n",
        "context_relevancy_evaluator = ContextRelevancyEvaluator(llm=OpenAI(temperature=0, model=\"gpt-3.5-turbo\"))\n",
        "eval_result = context_relevancy_evaluator.evaluate_response(query=query, response=response)\n",
        "# print(eval_result.passing)\n",
        "print(eval_result.score)\n",
        "print('----')\n",
        "print(eval_result.feedback)"
      ],
      "metadata": {
        "colab": {
          "base_uri": "https://localhost:8080/"
        },
        "id": "N4EblsvE4a1M",
        "outputId": "dccfbb2b-781e-4f33-b148-83339dc587de"
      },
      "execution_count": null,
      "outputs": [
        {
          "output_type": "stream",
          "name": "stdout",
          "text": [
            "1.0\n",
            "----\n",
            "1. The retrieved context is relevant to the user's query as it discusses the reasons for the increase in global rice supplies by 5.6 million tons this month. The context mentions that the increase is primarily due to larger beginning stocks and production for India, where production is raised to a record 142.0 million tons. It also explains that factors such as an above-average monsoon season and more rice planted at the expense of cotton contributed to the record output.\n",
            "\n",
            "2. The retrieved context can be used exclusively to provide a full answer to the user's query. It clearly states the reasons for the increase in global rice supplies by 5.6 million tons this month, attributing it to larger beginning stocks and production for India.\n",
            "\n",
            "Overall, the retrieved context matches the subject matter of the user's query and can be used exclusively to provide a full answer. \n",
            "\n",
            "[RESULT] 4.0\n"
          ]
        }
      ]
    },
    {
      "cell_type": "code",
      "source": [
        "'''\n",
        "Evaluates the relevancy of response to a query.\n",
        "'''\n",
        "answer_relevancy_evaluator = AnswerRelevancyEvaluator(llm=OpenAI(temperature=0, model=\"gpt-3.5-turbo\"))\n",
        "eval_result = answer_relevancy_evaluator.evaluate_response(query=query, response=response)\n",
        "# print(eval_result.passing)\n",
        "print(eval_result.score)\n",
        "print('---')\n",
        "print(eval_result.feedback)"
      ],
      "metadata": {
        "colab": {
          "base_uri": "https://localhost:8080/"
        },
        "id": "eYFuYkJ14a3x",
        "outputId": "ccccbc04-c7f1-4634-b5d9-da29e8af1fda"
      },
      "execution_count": null,
      "outputs": [
        {
          "output_type": "stream",
          "name": "stdout",
          "text": [
            "1.0\n",
            "---\n",
            "1. Does the provided response match the subject matter of the user's query?\n",
            "Yes, the response directly addresses why global rice supplies are raised by 5.6 million tons this month.\n",
            "\n",
            "2. Does the provided response attempt to address the focus or perspective on the subject matter taken on by the user's query?\n",
            "Yes, the response provides specific reasons for the increase in global rice supplies, focusing on larger beginning stocks and increased production in India.\n",
            "\n",
            "[RESULT] 2\n"
          ]
        }
      ]
    },
    {
      "cell_type": "code",
      "source": [
        "'''\n",
        "Evaluates whether a response is faithful to the contexts (i.e. whether the response is supported by the contexts or\n",
        "hallucinated.)\n",
        "'''\n",
        "faithfulness_evaluator = FaithfulnessEvaluator(llm=OpenAI(temperature=0, model=\"gpt-3.5-turbo\"))\n",
        "eval_result = faithfulness_evaluator.evaluate_response(response=response)\n",
        "# print(eval_result.passing)\n",
        "print(eval_result.score)\n",
        "print('---')\n",
        "print(eval_result.feedback)"
      ],
      "metadata": {
        "colab": {
          "base_uri": "https://localhost:8080/"
        },
        "id": "pvaHrV8bmGpR",
        "outputId": "54e06002-cd20-4081-f059-9aab74e99110"
      },
      "execution_count": null,
      "outputs": [
        {
          "output_type": "stream",
          "name": "stdout",
          "text": [
            "1.0\n",
            "---\n",
            "YES\n"
          ]
        }
      ]
    },
    {
      "cell_type": "code",
      "source": [
        "query = \"Who won the 1984 World Series?\"\n",
        "response = query_engine.query(query)\n",
        "print(response)"
      ],
      "metadata": {
        "colab": {
          "base_uri": "https://localhost:8080/"
        },
        "id": "DoKHOjE7mGr9",
        "outputId": "79ff1a11-3be9-41b9-e7fe-07d29221c2e6"
      },
      "execution_count": null,
      "outputs": [
        {
          "output_type": "stream",
          "name": "stdout",
          "text": [
            "I do not have that information.\n"
          ]
        }
      ]
    },
    {
      "cell_type": "code",
      "source": [
        "eval_result = context_relevancy_evaluator.evaluate_response(query=query, response=response)\n",
        "# print(eval_result.passing)\n",
        "print(eval_result.score)\n",
        "print(eval_result.feedback)"
      ],
      "metadata": {
        "colab": {
          "base_uri": "https://localhost:8080/"
        },
        "id": "2hpUaPhhmGuc",
        "outputId": "92760c4f-73c1-4f1c-a2dc-109f0283e616"
      },
      "execution_count": null,
      "outputs": [
        {
          "output_type": "stream",
          "name": "stdout",
          "text": [
            "0.0\n",
            "1. The retrieved context does not match the subject matter of the user's query. The context provided is related to agricultural projections and data, specifically about soybeans, cotton, and other crops. There is no mention of the 1984 World Series or any sports-related information.\n",
            "\n",
            "2. The retrieved context cannot be used exclusively to provide a full answer to the user's query. The information provided is completely unrelated to the question about the winner of the 1984 World Series. It does not offer any relevant details or insights that could help answer the query.\n",
            "\n",
            "[RESULT] 0.\n"
          ]
        }
      ]
    },
    {
      "cell_type": "code",
      "source": [
        "eval_result = answer_relevancy_evaluator.evaluate_response(query=query, response=response)\n",
        "# print(eval_result.passing)\n",
        "print(eval_result.score)\n",
        "print(eval_result.feedback)"
      ],
      "metadata": {
        "colab": {
          "base_uri": "https://localhost:8080/"
        },
        "id": "Gx4wxVdCmG7U",
        "outputId": "ef15ad36-349f-4eec-f283-9602340c50d6"
      },
      "execution_count": null,
      "outputs": [
        {
          "output_type": "stream",
          "name": "stdout",
          "text": [
            "0.0\n",
            "1. The response does not match the subject matter of the user's query as it does not provide any information about who won the 1984 World Series.\n",
            "2. The response does not attempt to address the focus or perspective on the subject matter taken on by the user's query as it simply states that the information is not available without providing any further assistance or guidance.\n",
            "\n",
            "[RESULT] 0\n"
          ]
        }
      ]
    },
    {
      "cell_type": "code",
      "source": [
        "eval_result = faithfulness_evaluator.evaluate_response(response=response)\n",
        "# print(eval_result.passing)\n",
        "print(eval_result.score)\n",
        "print(eval_result.feedback)"
      ],
      "metadata": {
        "colab": {
          "base_uri": "https://localhost:8080/"
        },
        "id": "qssu-MFX5a5J",
        "outputId": "f9e33b7a-778b-413c-da1b-51a700349a25"
      },
      "execution_count": null,
      "outputs": [
        {
          "output_type": "stream",
          "name": "stdout",
          "text": [
            "1.0\n",
            "YES\n"
          ]
        }
      ]
    },
    {
      "cell_type": "code",
      "source": [
        "query = \"Is U.S. oilseed production up or down and who won the 1984 World Series?\"\n",
        "response = query_engine.query(query)\n",
        "print(response)"
      ],
      "metadata": {
        "colab": {
          "base_uri": "https://localhost:8080/"
        },
        "id": "W958lRBf5a72",
        "outputId": "a3ee677f-fd82-4303-f8e7-502068b0efed"
      },
      "execution_count": null,
      "outputs": [
        {
          "output_type": "stream",
          "name": "stdout",
          "text": [
            "U.S. oilseed production for 2024/25 is forecasted to be down. The 1984 World Series was won by the Detroit Tigers.\n"
          ]
        }
      ]
    },
    {
      "cell_type": "code",
      "source": [
        "eval_result = context_relevancy_evaluator.evaluate_response(query=query, response=response)\n",
        "print(eval_result.score)\n",
        "print(eval_result.feedback)"
      ],
      "metadata": {
        "colab": {
          "base_uri": "https://localhost:8080/"
        },
        "id": "qeZFizSZ5a-W",
        "outputId": "263b86c6-ac48-442c-d560-0b226bb06fc6"
      },
      "execution_count": null,
      "outputs": [
        {
          "output_type": "stream",
          "name": "stdout",
          "text": [
            "0.875\n",
            "1. The retrieved context does match the subject matter of the user's query to some extent. The context discusses U.S. oilseed production for 2024/25, which is relevant to the query about U.S. oilseed production being up or down. However, the context also includes information about sugar, livestock, poultry, dairy, corn, rice, and global oilseed production, which are not directly related to the query.\n",
            "\n",
            "2. The retrieved context can be used to provide a partial answer to the user's query. It specifically mentions that U.S. oilseed production for 2024/25 is forecasted to be down, which directly addresses the query. However, it does not provide a comprehensive answer as it does not mention whether U.S. oilseed production is up or down for the current year (2023) or provide information about who won the 1984 World Series.\n",
            "\n",
            "[RESULT] 3.5\n"
          ]
        }
      ]
    },
    {
      "cell_type": "code",
      "source": [
        "eval_result = answer_relevancy_evaluator.evaluate_response(query=query, response=response)\n",
        "print(eval_result.score)\n",
        "print(eval_result.feedback)"
      ],
      "metadata": {
        "colab": {
          "base_uri": "https://localhost:8080/"
        },
        "id": "oQnokUmP6JRp",
        "outputId": "220bf8d9-a16e-4dea-9f0c-71a8edcad894"
      },
      "execution_count": null,
      "outputs": [
        {
          "output_type": "stream",
          "name": "stdout",
          "text": [
            "0.5\n",
            "1. The response partially matches the subject matter of the user's query. The information about U.S. oilseed production being down is relevant, but the query also asked about whether it was up or down, which is not directly addressed.\n",
            "2. The response does address the second part of the query by providing the information about who won the 1984 World Series.\n",
            "\n",
            "[RESULT] 1\n"
          ]
        }
      ]
    },
    {
      "cell_type": "code",
      "source": [
        "eval_result = faithfulness_evaluator.evaluate_response(response=response)\n",
        "print(eval_result.score)\n",
        "print(eval_result.feedback)"
      ],
      "metadata": {
        "colab": {
          "base_uri": "https://localhost:8080/"
        },
        "id": "X-wcK3vj6JUU",
        "outputId": "e3f2926a-226a-4b53-8494-9d381eb75bba"
      },
      "execution_count": null,
      "outputs": [
        {
          "output_type": "stream",
          "name": "stdout",
          "text": [
            "0.0\n",
            "NO\n"
          ]
        }
      ]
    },
    {
      "cell_type": "code",
      "source": [
        "%%time\n",
        "from llama_index.core.llama_dataset.generator import RagDatasetGenerator\n",
        "# instantiate a DatasetGenerator\n",
        "llm = OpenAI(model=\"gpt-3.5-turbo\", temperature=0.0)\n",
        "dataset_generator = RagDatasetGenerator.from_documents(\n",
        "    documents,\n",
        "    llm=llm,\n",
        "    num_questions_per_chunk=1,  # set the number of questions per nodes\n",
        "    show_progress=False,\n",
        ")\n",
        "\n",
        "print(len(dataset_generator.nodes))\n",
        "rag_dataset = dataset_generator.generate_dataset_from_nodes()\n",
        "qdf = rag_dataset.to_pandas()\n",
        "print(qdf.info())"
      ],
      "metadata": {
        "colab": {
          "base_uri": "https://localhost:8080/"
        },
        "id": "7uUEVjxw6bSO",
        "outputId": "fd2477fb-dec3-49b3-8c32-c38202ead6ec"
      },
      "execution_count": null,
      "outputs": [
        {
          "output_type": "stream",
          "name": "stdout",
          "text": [
            "68\n",
            "<class 'pandas.core.frame.DataFrame'>\n",
            "RangeIndex: 68 entries, 0 to 67\n",
            "Data columns (total 5 columns):\n",
            " #   Column               Non-Null Count  Dtype \n",
            "---  ------               --------------  ----- \n",
            " 0   query                68 non-null     object\n",
            " 1   reference_contexts   68 non-null     object\n",
            " 2   reference_answer     68 non-null     object\n",
            " 3   reference_answer_by  68 non-null     object\n",
            " 4   query_by             68 non-null     object\n",
            "dtypes: object(5)\n",
            "memory usage: 2.8+ KB\n",
            "None\n",
            "CPU times: user 7.49 s, sys: 809 ms, total: 8.3 s\n",
            "Wall time: 1min 40s\n"
          ]
        }
      ]
    },
    {
      "cell_type": "code",
      "source": [
        "import pandas as pd\n",
        "pd.options.display.max_colwidth = None\n",
        "\n",
        "qdf['query'].sample(10)"
      ],
      "metadata": {
        "colab": {
          "base_uri": "https://localhost:8080/",
          "height": 415
        },
        "id": "67FwmOLR76aO",
        "outputId": "da46c894-411f-4e24-aa30-d64b0aeb5a58"
      },
      "execution_count": null,
      "outputs": [
        {
          "output_type": "execute_result",
          "data": {
            "text/plain": [
              "18                                                                 What is the projected yield per harvested acre for U.S. soybeans in the 2024/25 marketing year according to the October 2024 WASDE report?\n",
              "45                                                                                    What factors may contribute to totals not adding exactly and trade not balancing in the data presented in the document?\n",
              "57                                                                             What are the projected poultry production numbers for October 2025, and how do they compare to the numbers for September 2025?\n",
              "29                                                         What is the estimated ending stocks for world coarse grain supply in 2023/24, and how does it compare to the beginning stocks for the same period?\n",
              "25                                                              Explain the differences in world imports and exports that may cause discrepancies in trade balances, as mentioned in the context information.\n",
              "49                                                        Why may world imports and exports not balance according to the information provided, and how does this affect the equality of world supply and use?\n",
              "46                                                                                                                 Calculate the total world soybean exports for the 2022/23 marketing year, excluding China.\n",
              "53                                                    Explain the factors that may cause world imports and exports of a certain product to not balance according to the information provided in the document.\n",
              "37    Question: What are the major exporters and major importers of rice in the world, and what are the key statistics for each country listed in the World Rice Supply and Use table for the 2022/23 period?\n",
              "28                                                                                                       Why may world imports and exports not balance according to the information provided in the document?\n",
              "Name: query, dtype: object"
            ],
            "text/html": [
              "<div>\n",
              "<style scoped>\n",
              "    .dataframe tbody tr th:only-of-type {\n",
              "        vertical-align: middle;\n",
              "    }\n",
              "\n",
              "    .dataframe tbody tr th {\n",
              "        vertical-align: top;\n",
              "    }\n",
              "\n",
              "    .dataframe thead th {\n",
              "        text-align: right;\n",
              "    }\n",
              "</style>\n",
              "<table border=\"1\" class=\"dataframe\">\n",
              "  <thead>\n",
              "    <tr style=\"text-align: right;\">\n",
              "      <th></th>\n",
              "      <th>query</th>\n",
              "    </tr>\n",
              "  </thead>\n",
              "  <tbody>\n",
              "    <tr>\n",
              "      <th>18</th>\n",
              "      <td>What is the projected yield per harvested acre for U.S. soybeans in the 2024/25 marketing year according to the October 2024 WASDE report?</td>\n",
              "    </tr>\n",
              "    <tr>\n",
              "      <th>45</th>\n",
              "      <td>What factors may contribute to totals not adding exactly and trade not balancing in the data presented in the document?</td>\n",
              "    </tr>\n",
              "    <tr>\n",
              "      <th>57</th>\n",
              "      <td>What are the projected poultry production numbers for October 2025, and how do they compare to the numbers for September 2025?</td>\n",
              "    </tr>\n",
              "    <tr>\n",
              "      <th>29</th>\n",
              "      <td>What is the estimated ending stocks for world coarse grain supply in 2023/24, and how does it compare to the beginning stocks for the same period?</td>\n",
              "    </tr>\n",
              "    <tr>\n",
              "      <th>25</th>\n",
              "      <td>Explain the differences in world imports and exports that may cause discrepancies in trade balances, as mentioned in the context information.</td>\n",
              "    </tr>\n",
              "    <tr>\n",
              "      <th>49</th>\n",
              "      <td>Why may world imports and exports not balance according to the information provided, and how does this affect the equality of world supply and use?</td>\n",
              "    </tr>\n",
              "    <tr>\n",
              "      <th>46</th>\n",
              "      <td>Calculate the total world soybean exports for the 2022/23 marketing year, excluding China.</td>\n",
              "    </tr>\n",
              "    <tr>\n",
              "      <th>53</th>\n",
              "      <td>Explain the factors that may cause world imports and exports of a certain product to not balance according to the information provided in the document.</td>\n",
              "    </tr>\n",
              "    <tr>\n",
              "      <th>37</th>\n",
              "      <td>Question: What are the major exporters and major importers of rice in the world, and what are the key statistics for each country listed in the World Rice Supply and Use table for the 2022/23 period?</td>\n",
              "    </tr>\n",
              "    <tr>\n",
              "      <th>28</th>\n",
              "      <td>Why may world imports and exports not balance according to the information provided in the document?</td>\n",
              "    </tr>\n",
              "  </tbody>\n",
              "</table>\n",
              "</div><br><label><b>dtype:</b> object</label>"
            ]
          },
          "metadata": {},
          "execution_count": 24
        }
      ]
    },
    {
      "cell_type": "code",
      "source": [
        "faithfulness_scores = []\n",
        "answer_relevancy_scores = []\n",
        "context_relevancy_scores = []\n",
        "for query in qdf['query'].values:\n",
        "    # print('query = ' + query)\n",
        "    response = query_engine.query(query)\n",
        "    # print('response = ' + str(response))\n",
        "    eval_result = faithfulness_evaluator.evaluate_response(response=response)\n",
        "    faithfulness_scores.append(eval_result.score)\n",
        "    eval_result = answer_relevancy_evaluator.evaluate_response(query=query, response=response)\n",
        "    answer_relevancy_scores.append(eval_result.score)\n",
        "    eval_result = context_relevancy_evaluator.evaluate_response(query=query, response=response)\n",
        "    context_relevancy_scores.append(eval_result.score)"
      ],
      "metadata": {
        "id": "eJTVlhqj76wn"
      },
      "execution_count": null,
      "outputs": []
    },
    {
      "cell_type": "code",
      "source": [
        "results = pd.DataFrame(columns=['experiment', 'context_relevancy', 'answer_relevancy', 'faithfulness'])"
      ],
      "metadata": {
        "id": "MkGi6sPxdvRG"
      },
      "execution_count": null,
      "outputs": []
    },
    {
      "cell_type": "code",
      "source": [
        "import numpy as np\n",
        "avg_context_relevancy = np.mean(context_relevancy_scores)\n",
        "avg_answer_relevancy = np.mean(answer_relevancy_scores)\n",
        "avg_faithfulness = np.mean(faithfulness_scores)\n",
        "print('Average context_relevancy score = ' + str(avg_context_relevancy))\n",
        "print('Average answer_relevancy score = ' + str(avg_answer_relevancy))\n",
        "print('Average faithfulness score = ' + str(avg_faithfulness))\n",
        "new_row = {'experiment': 'simple', 'context_relevancy': avg_context_relevancy, 'answer_relevancy': avg_answer_relevancy, 'faithfulness': avg_faithfulness}\n",
        "results.loc[results.shape[0]] = new_row\n"
      ],
      "metadata": {
        "colab": {
          "base_uri": "https://localhost:8080/"
        },
        "id": "giXmmguL76y2",
        "outputId": "3b7bdf7e-e770-4c2c-fbab-b3b4e211aedb"
      },
      "execution_count": null,
      "outputs": [
        {
          "output_type": "stream",
          "name": "stdout",
          "text": [
            "Average context_relevancy score = 0.8345588235294118\n",
            "Average answer_relevancy score = 0.9485294117647058\n",
            "Average faithfulness score = 0.8382352941176471\n"
          ]
        }
      ]
    },
    {
      "cell_type": "markdown",
      "source": [
        "## A more advanced approach\n",
        "\n",
        "Instead of using the top 2 nodes we will use the top 5 nodes of the vector index."
      ],
      "metadata": {
        "id": "J2oMYsgQht2j"
      }
    },
    {
      "cell_type": "code",
      "source": [
        "from llama_index.core import get_response_synthesizer\n",
        "from llama_index.core.retrievers import VectorIndexRetriever\n",
        "retriever = VectorIndexRetriever(\n",
        "    index=index,\n",
        "    similarity_top_k=5,\n",
        ")\n",
        "# compact (concatenate) the chunks beforehand, resulting in less LLM calls.\n",
        "response_synthesizer = get_response_synthesizer(response_mode='compact') #default"
      ],
      "metadata": {
        "id": "YnjJ89Ll7612"
      },
      "execution_count": null,
      "outputs": []
    },
    {
      "cell_type": "code",
      "source": [
        "from llama_index.core.query_engine import RetrieverQueryEngine\n",
        "from llama_index.core.postprocessor import SimilarityPostprocessor\n",
        "query_engine = RetrieverQueryEngine(\n",
        "    retriever=retriever,\n",
        "    response_synthesizer=response_synthesizer,\n",
        "    # Used to remove nodes that are below a similarity score threshold. https://docs.llamaindex.ai/en/stable/module_guides/querying/node_postprocessors/node_postprocessors/\n",
        "    node_postprocessors=[SimilarityPostprocessor(similarity_cutoff=0.5)],\n",
        ")"
      ],
      "metadata": {
        "id": "H0_qE-fL-WPe"
      },
      "execution_count": null,
      "outputs": []
    },
    {
      "cell_type": "code",
      "source": [
        "faithfulness_scores = []\n",
        "answer_relevancy_scores = []\n",
        "context_relevancy_scores = []\n",
        "for query in qdf['query'].values:\n",
        "    response = query_engine.query(query)\n",
        "    eval_result = faithfulness_evaluator.evaluate_response(response=response)\n",
        "    faithfulness_scores.append(eval_result.score)\n",
        "    eval_result = answer_relevancy_evaluator.evaluate_response(query=query, response=response)\n",
        "    answer_relevancy_scores.append(eval_result.score)\n",
        "    eval_result = context_relevancy_evaluator.evaluate_response(query=query, response=response)\n",
        "    context_relevancy_scores.append(eval_result.score)"
      ],
      "metadata": {
        "id": "-QyCXAWI-WST"
      },
      "execution_count": null,
      "outputs": []
    },
    {
      "cell_type": "code",
      "source": [
        "avg_context_relevancy = np.mean(context_relevancy_scores)\n",
        "avg_answer_relevancy = np.mean(answer_relevancy_scores)\n",
        "avg_faithfulness = np.mean(faithfulness_scores)\n",
        "print('Average context_relevancy score = ' + str(avg_context_relevancy))\n",
        "print('Average answer_relevancy score = ' + str(avg_answer_relevancy))\n",
        "print('Average faithfulness score = ' + str(avg_faithfulness))\n",
        "new_row = {'experiment': 'advanced', 'context_relevancy': avg_context_relevancy, 'answer_relevancy': avg_answer_relevancy, 'faithfulness': avg_faithfulness}\n",
        "results.loc[results.shape[0]] = new_row"
      ],
      "metadata": {
        "colab": {
          "base_uri": "https://localhost:8080/"
        },
        "id": "gIB5Miso-WVE",
        "outputId": "0f505f75-d597-4031-cbcd-87d27778f05e"
      },
      "execution_count": null,
      "outputs": [
        {
          "output_type": "stream",
          "name": "stdout",
          "text": [
            "Average context_relevancy score = 0.8621323529411765\n",
            "Average answer_relevancy score = 0.9779411764705882\n",
            "Average faithfulness score = 0.8823529411764706\n"
          ]
        }
      ]
    },
    {
      "cell_type": "code",
      "source": [
        "import matplotlib.pyplot as plt\n",
        "results.plot(x='experiment', kind='bar', figsize=(10, 6))\n",
        "plt.title('Evaluation')\n",
        "plt.xlabel('experiment')\n",
        "plt.ylabel('scores')\n",
        "plt.show()"
      ],
      "metadata": {
        "colab": {
          "base_uri": "https://localhost:8080/",
          "height": 618
        },
        "id": "XXfizlCArYht",
        "outputId": "a2124115-5170-4d57-a2c3-db5ba2c9c254"
      },
      "execution_count": null,
      "outputs": [
        {
          "output_type": "display_data",
          "data": {
            "text/plain": [
              "<Figure size 1000x600 with 1 Axes>"
            ],
            "image/png": "[encoded data removed]"
          },
          "metadata": {}
        }
      ]
    },
    {
      "cell_type": "markdown",
      "source": [
        "## High Temp LLM"
      ],
      "metadata": {
        "id": "xgWrSO111kbF"
      }
    },
    {
      "cell_type": "code",
      "source": [
        "llm = OpenAI(model=\"gpt-3.5-turbo\", temperature=0.5)\n",
        "\n",
        "# response_synthesizer = get_response_synthesizer(llm=llm)\n",
        "# query_engine = RetrieverQueryEngine(\n",
        "#     retriever=retriever,\n",
        "#     response_synthesizer=response_synthesizer,\n",
        "#     # node_postprocessors=[SimilarityPostprocessor(similarity_cutoff=0.5)],\n",
        "# )\n",
        "\n",
        "query_engine = index.as_query_engine(llm=llm)"
      ],
      "metadata": {
        "id": "F32WbdTwDC8k"
      },
      "execution_count": null,
      "outputs": []
    },
    {
      "cell_type": "code",
      "source": [
        "faithfulness_scores = []\n",
        "answer_relevancy_scores = []\n",
        "context_relevancy_scores = []\n",
        "for query in qdf['query'].values:\n",
        "    response = query_engine.query(query)\n",
        "    eval_result = faithfulness_evaluator.evaluate_response(response=response)\n",
        "    faithfulness_scores.append(eval_result.score)\n",
        "    eval_result = answer_relevancy_evaluator.evaluate_response(query=query, response=response)\n",
        "    answer_relevancy_scores.append(eval_result.score)\n",
        "    eval_result = context_relevancy_evaluator.evaluate_response(query=query, response=response)\n",
        "    context_relevancy_scores.append(eval_result.score)"
      ],
      "metadata": {
        "id": "_tU8c9dBDJdV"
      },
      "execution_count": null,
      "outputs": []
    },
    {
      "cell_type": "code",
      "source": [
        "avg_context_relevancy = np.mean(context_relevancy_scores)\n",
        "avg_answer_relevancy = np.mean(answer_relevancy_scores)\n",
        "avg_faithfulness = np.mean(faithfulness_scores)\n",
        "print('Average context_relevancy score = ' + str(avg_context_relevancy))\n",
        "print('Average answer_relevancy score = ' + str(avg_answer_relevancy))\n",
        "print('Average faithfulness score = ' + str(avg_faithfulness))\n",
        "new_row = {'experiment': 'high_temp', 'context_relevancy': avg_context_relevancy, 'answer_relevancy': avg_answer_relevancy, 'faithfulness': avg_faithfulness}\n",
        "results.loc[results.shape[0]] = new_row"
      ],
      "metadata": {
        "colab": {
          "base_uri": "https://localhost:8080/"
        },
        "id": "HZzcP8_1DMKK",
        "outputId": "9b6b6ebe-c911-4977-bf20-5829a37381f2"
      },
      "execution_count": null,
      "outputs": [
        {
          "output_type": "stream",
          "name": "stdout",
          "text": [
            "Average context_relevancy score = 0.8198529411764706\n",
            "Average answer_relevancy score = 0.9411764705882353\n",
            "Average faithfulness score = 0.8970588235294118\n"
          ]
        }
      ]
    },
    {
      "cell_type": "code",
      "source": [
        "results.plot(x='experiment', kind='bar', figsize=(10, 6))\n",
        "plt.title('Evaluation')\n",
        "plt.xlabel('experiment')\n",
        "plt.ylabel('scores')\n",
        "plt.show()"
      ],
      "metadata": {
        "colab": {
          "base_uri": "https://localhost:8080/",
          "height": 624
        },
        "id": "jbGvSrdOf26F",
        "outputId": "6582ba8c-10bd-4abb-e8e7-9e1e8ad3a29e"
      },
      "execution_count": null,
      "outputs": [
        {
          "output_type": "display_data",
          "data": {
            "text/plain": [
              "<Figure size 1000x600 with 1 Axes>"
            ],
            "image/png": "[encoded data removed]"
          },
          "metadata": {}
        }
      ]
    },
    {
      "cell_type": "markdown",
      "source": [
        "## Auto Merging Retriever\n",
        "\n",
        "Looks at a set of leaf nodes and recursively \"merges\" subsets of leaf nodes that reference a parent node beyond a given threshold. This allows us to consolidate potentially disparate, smaller contexts into a larger context that might help synthesis."
      ],
      "metadata": {
        "id": "74lyNFOa2PKJ"
      }
    },
    {
      "cell_type": "code",
      "source": [
        "# first we need to process our documents into nodes and index those nodes.\n",
        "from llama_index.core.node_parser import HierarchicalNodeParser, get_leaf_nodes\n",
        "from llama_index.core.storage.docstore import SimpleDocumentStore\n",
        "\n",
        "node_parser = HierarchicalNodeParser.from_defaults()\n",
        "nodes = node_parser.get_nodes_from_documents(documents)\n",
        "leaf_nodes = get_leaf_nodes(nodes)\n",
        "\n",
        "docstore = SimpleDocumentStore()\n",
        "docstore.add_documents(nodes)\n",
        "storage_context = StorageContext.from_defaults(docstore=docstore)\n",
        "\n",
        "base_index = VectorStoreIndex(\n",
        "    leaf_nodes,\n",
        "    storage_context=storage_context,\n",
        ")"
      ],
      "metadata": {
        "id": "5Y8D3tyE4JxZ"
      },
      "execution_count": null,
      "outputs": []
    },
    {
      "cell_type": "code",
      "source": [
        "from llama_index.core.retrievers import AutoMergingRetriever\n",
        "base_retriever = base_index.as_retriever(similarity_top_k=6)\n",
        "retriever = AutoMergingRetriever(base_retriever, storage_context, verbose=False)\n",
        "\n",
        "llm = OpenAI(model=\"gpt-3.5-turbo\", temperature=0.1)\n",
        "response_synthesizer = get_response_synthesizer(llm=llm)\n",
        "query_engine = RetrieverQueryEngine(\n",
        "    retriever=retriever,\n",
        "    response_synthesizer=response_synthesizer,\n",
        "    # node_postprocessors=[SimilarityPostprocessor(similarity_cutoff=0.5)],\n",
        ")"
      ],
      "metadata": {
        "id": "eOjdRThvok24"
      },
      "execution_count": null,
      "outputs": []
    },
    {
      "cell_type": "code",
      "source": [
        "faithfulness_scores = []\n",
        "answer_relevancy_scores = []\n",
        "context_relevancy_scores = []\n",
        "for query in qdf['query'].values:\n",
        "    response = query_engine.query(query)\n",
        "    eval_result = faithfulness_evaluator.evaluate_response(response=response)\n",
        "    faithfulness_scores.append(eval_result.score)\n",
        "    eval_result = answer_relevancy_evaluator.evaluate_response(query=query, response=response)\n",
        "    answer_relevancy_scores.append(eval_result.score)\n",
        "    eval_result = context_relevancy_evaluator.evaluate_response(query=query, response=response)\n",
        "    context_relevancy_scores.append(eval_result.score)"
      ],
      "metadata": {
        "id": "6ahQXF9XolYo"
      },
      "execution_count": null,
      "outputs": []
    },
    {
      "cell_type": "code",
      "source": [
        "avg_context_relevancy = np.mean(context_relevancy_scores)\n",
        "avg_answer_relevancy = np.mean(answer_relevancy_scores)\n",
        "avg_faithfulness = np.mean(faithfulness_scores)\n",
        "print('Average context_relevancy score = ' + str(avg_context_relevancy))\n",
        "print('Average answer_relevancy score = ' + str(avg_answer_relevancy))\n",
        "print('Average faithfulness score = ' + str(avg_faithfulness))\n",
        "new_row = {'experiment': 'auto_merge', 'context_relevancy': avg_context_relevancy, 'answer_relevancy': avg_answer_relevancy, 'faithfulness': avg_faithfulness}\n",
        "results.loc[results.shape[0]] = new_row"
      ],
      "metadata": {
        "colab": {
          "base_uri": "https://localhost:8080/"
        },
        "id": "u7bxlHGDrnwS",
        "outputId": "a9f9a4c4-c1ce-427b-88f6-df1853419aca"
      },
      "execution_count": null,
      "outputs": [
        {
          "output_type": "stream",
          "name": "stdout",
          "text": [
            "Average context_relevancy score = 0.6341911764705882\n",
            "Average answer_relevancy score = 0.9117647058823529\n",
            "Average faithfulness score = 0.8088235294117647\n"
          ]
        }
      ]
    },
    {
      "cell_type": "code",
      "source": [
        "results.plot(x='experiment', kind='bar', figsize=(10, 6))\n",
        "plt.title('Evaluation')\n",
        "plt.xlabel('experiment')\n",
        "plt.ylabel('scores')\n",
        "plt.show()"
      ],
      "metadata": {
        "colab": {
          "base_uri": "https://localhost:8080/",
          "height": 633
        },
        "id": "Ffvzzi3Krn0X",
        "outputId": "10f40ee0-f1f5-4468-91fe-2fb531ed790b"
      },
      "execution_count": null,
      "outputs": [
        {
          "output_type": "display_data",
          "data": {
            "text/plain": [
              "<Figure size 1000x600 with 1 Axes>"
            ],
            "image/png": "[encoded data removed]"
          },
          "metadata": {}
        }
      ]
    }
  ]
}