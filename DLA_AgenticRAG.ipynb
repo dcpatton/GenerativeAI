{
  "nbformat": 4,
  "nbformat_minor": 0,
  "metadata": {
    "colab": {
      "provenance": [],
      "authorship_tag": "ABX9TyONdpEYEY4ai1fD2T7xwaPU",
      "include_colab_link": true
    },
    "kernelspec": {
      "name": "python3",
      "display_name": "Python 3"
    },
    "language_info": {
      "name": "python"
    }
  },
  "cells": [
    {
      "cell_type": "markdown",
      "metadata": {
        "id": "view-in-github",
        "colab_type": "text"
      },
      "source": [
        "<a href=\"https://colab.research.google.com/github/dcpatton/GenerativeAI/blob/main/DLA_AgenticRAG.ipynb\" target=\"_parent\"><img src=\"https://colab.research.google.com/assets/colab-badge.svg\" alt=\"Open In Colab\"/></a>"
      ]
    },
    {
      "cell_type": "code",
      "source": [
        "!pip install llama_index==0.12.16 llama-index-experimental==0.5.3 -q"
      ],
      "metadata": {
        "id": "dnk_dd3gbmtq"
      },
      "execution_count": 44,
      "outputs": []
    },
    {
      "cell_type": "code",
      "source": [
        "import os\n",
        "import getpass\n",
        "from llama_index.llms.openai import OpenAI\n",
        "from llama_index.core import Settings\n",
        "from llama_index.experimental.query_engine import PandasQueryEngine\n",
        "from typing import Tuple\n",
        "from geopy.distance import geodesic\n",
        "from llama_index.agent.openai import OpenAIAgent\n",
        "from llama_index.core.bridge.pydantic import BaseModel\n",
        "import pandas as pd\n",
        "from shapely.geometry import Point\n",
        "import geopandas as gpd\n",
        "from geopy.geocoders import Nominatim\n",
        "import time\n",
        "from llama_index.core.tools import FunctionTool\n",
        "from llama_index.agent.openai import OpenAIAgent\n",
        "import unittest\n",
        "import json\n",
        "from typing import Optional, Required\n",
        "from llama_index.core.llms import ChatMessage\n",
        "import warnings\n",
        "warnings.filterwarnings('ignore')\n",
        "from openai import OpenAI as OAI\n",
        "\n",
        "assert pd.__version__ == '2.2.2'\n",
        "assert gpd.__version__ == '1.0.1'\n",
        "assert json.__version__ == '2.0.9'"
      ],
      "metadata": {
        "id": "r8SR-b9-iFdJ"
      },
      "execution_count": 2,
      "outputs": []
    },
    {
      "cell_type": "code",
      "source": [
        "# setup OpenAI api_key\n",
        "\n",
        "if not os.environ.get('OPENAI_API_KEY'):\n",
        "  os.environ['OPENAI_API_KEY'] = getpass.getpass(\"Enter the OpenAI API Key(which starts with sk-): \")"
      ],
      "metadata": {
        "id": "Kaoi33vKdmHj",
        "colab": {
          "base_uri": "https://localhost:8080/"
        },
        "outputId": "0561ffc2-b227-4a75-8d1f-d536e0612f1a"
      },
      "execution_count": 3,
      "outputs": [
        {
          "name": "stdout",
          "output_type": "stream",
          "text": [
            "Enter the OpenAI API Key(which starts with sk-): ··········\n"
          ]
        }
      ]
    },
    {
      "cell_type": "code",
      "source": [
        "Settings.llm = OpenAI(temperature=0.0, model=\"gpt-3.5-turbo\")"
      ],
      "metadata": {
        "id": "6DdzOTsgg3L-"
      },
      "execution_count": 4,
      "outputs": []
    },
    {
      "cell_type": "markdown",
      "source": [
        "## Data\n",
        "\n",
        "Inspired by our \"Pedals to the Metal\" sessions https://youtu.be/y0gsfJ2pTOs\n",
        "\n",
        "Capital Bikeshare https://capitalbikeshare.com/\n",
        "\n",
        "Our source of data is bike trips in January 2025: https://s3.amazonaws.com/capitalbikeshare-data/202501-capitalbikeshare-tripdata.zip"
      ],
      "metadata": {
        "id": "-2ju51k1QMkL"
      }
    },
    {
      "cell_type": "code",
      "execution_count": 5,
      "metadata": {
        "id": "0bINmQRsP_uX",
        "colab": {
          "base_uri": "https://localhost:8080/"
        },
        "outputId": "6a2075ba-75dd-4056-ca64-8c0974a051e4"
      },
      "outputs": [
        {
          "output_type": "stream",
          "name": "stdout",
          "text": [
            "--2025-04-03 17:43:09--  https://s3.amazonaws.com/capitalbikeshare-data/202501-capitalbikeshare-tripdata.zip\n",
            "Resolving s3.amazonaws.com (s3.amazonaws.com)... 3.5.24.38, 52.217.114.248, 52.216.204.5, ...\n",
            "Connecting to s3.amazonaws.com (s3.amazonaws.com)|3.5.24.38|:443... connected.\n",
            "HTTP request sent, awaiting response... 200 OK\n",
            "Length: 11453201 (11M) [application/zip]\n",
            "Saving to: ‘202501-capitalbikeshare-tripdata.zip’\n",
            "\n",
            "202501-capitalbikes 100%[===================>]  10.92M  11.5MB/s    in 0.9s    \n",
            "\n",
            "2025-04-03 17:43:10 (11.5 MB/s) - ‘202501-capitalbikeshare-tripdata.zip’ saved [11453201/11453201]\n",
            "\n",
            "Archive:  202501-capitalbikeshare-tripdata.zip\n",
            "  inflating: 202501-capitalbikeshare-tripdata.csv  \n",
            "  inflating: __MACOSX/._202501-capitalbikeshare-tripdata.csv  \n"
          ]
        }
      ],
      "source": [
        "!wget https://s3.amazonaws.com/capitalbikeshare-data/202501-capitalbikeshare-tripdata.zip\n",
        "!unzip 202501-capitalbikeshare-tripdata.zip"
      ]
    },
    {
      "cell_type": "code",
      "source": [
        "data = pd.read_csv('./202501-capitalbikeshare-tripdata.csv')\n",
        "data.info()"
      ],
      "metadata": {
        "id": "JPlwh0C5QKvR",
        "colab": {
          "base_uri": "https://localhost:8080/"
        },
        "outputId": "0f66881f-470e-4fa5-b6db-05df30ed67fc"
      },
      "execution_count": 45,
      "outputs": [
        {
          "output_type": "stream",
          "name": "stdout",
          "text": [
            "<class 'pandas.core.frame.DataFrame'>\n",
            "RangeIndex: 285731 entries, 0 to 285730\n",
            "Data columns (total 13 columns):\n",
            " #   Column              Non-Null Count   Dtype  \n",
            "---  ------              --------------   -----  \n",
            " 0   ride_id             285731 non-null  object \n",
            " 1   rideable_type       285731 non-null  object \n",
            " 2   started_at          285731 non-null  object \n",
            " 3   ended_at            285731 non-null  object \n",
            " 4   start_station_name  197609 non-null  object \n",
            " 5   start_station_id    197609 non-null  float64\n",
            " 6   end_station_name    194709 non-null  object \n",
            " 7   end_station_id      194514 non-null  float64\n",
            " 8   start_lat           285731 non-null  float64\n",
            " 9   start_lng           285731 non-null  float64\n",
            " 10  end_lat             285548 non-null  float64\n",
            " 11  end_lng             285548 non-null  float64\n",
            " 12  member_casual       285731 non-null  object \n",
            "dtypes: float64(6), object(7)\n",
            "memory usage: 28.3+ MB\n"
          ]
        }
      ]
    },
    {
      "cell_type": "code",
      "source": [
        "# eliminate trips that don't start and stop at a station\n",
        "data = data[data['start_station_id'].notna()]\n",
        "data = data[data['end_station_id'].notna()]"
      ],
      "metadata": {
        "id": "1atA_PqeQKxy"
      },
      "execution_count": 46,
      "outputs": []
    },
    {
      "cell_type": "code",
      "source": [
        "# remove unused columns\n",
        "data = data.drop(['ride_id', 'rideable_type', 'started_at', 'ended_at', 'member_casual'], axis='columns').drop_duplicates()\n",
        "data.info()"
      ],
      "metadata": {
        "id": "eZnmMtGoQK0K",
        "colab": {
          "base_uri": "https://localhost:8080/"
        },
        "outputId": "a8bb4896-9b19-430c-fdac-018a9ff62e4e"
      },
      "execution_count": 47,
      "outputs": [
        {
          "output_type": "stream",
          "name": "stdout",
          "text": [
            "<class 'pandas.core.frame.DataFrame'>\n",
            "Index: 49633 entries, 0 to 283766\n",
            "Data columns (total 8 columns):\n",
            " #   Column              Non-Null Count  Dtype  \n",
            "---  ------              --------------  -----  \n",
            " 0   start_station_name  49633 non-null  object \n",
            " 1   start_station_id    49633 non-null  float64\n",
            " 2   end_station_name    49633 non-null  object \n",
            " 3   end_station_id      49633 non-null  float64\n",
            " 4   start_lat           49633 non-null  float64\n",
            " 5   start_lng           49633 non-null  float64\n",
            " 6   end_lat             49633 non-null  float64\n",
            " 7   end_lng             49633 non-null  float64\n",
            "dtypes: float64(6), object(2)\n",
            "memory usage: 3.4+ MB\n"
          ]
        }
      ]
    },
    {
      "cell_type": "code",
      "source": [
        "# verify that all stations are present in start_stations\n",
        "l1 = data.start_station_id.unique().tolist()\n",
        "data = data[data['end_station_id'].isin(l1)]\n",
        "l1 = data.end_station_id.unique().tolist()\n",
        "data = data[data['start_station_id'].isin(l1)]\n",
        "assert data.start_station_id.nunique() == data.end_station_id.nunique()\n",
        "assert set(data.start_station_id.unique()) == set(data.end_station_id.unique())"
      ],
      "metadata": {
        "id": "rvkaDipKQK2q"
      },
      "execution_count": 48,
      "outputs": []
    },
    {
      "cell_type": "code",
      "source": [
        "# data cleaning\n",
        "data['start_station_name'] = data['start_station_name'].str.strip()"
      ],
      "metadata": {
        "id": "D6BrkwvVnHAR"
      },
      "execution_count": 49,
      "outputs": []
    },
    {
      "cell_type": "code",
      "source": [
        "# reduce to minimum amount of station data we need\n",
        "data = (data[['start_station_name', 'start_station_id', 'start_lat', 'start_lng']]\n",
        "        .rename(columns={'start_station_name':'station_name', 'start_station_id':'station_id', 'start_lat':'latitude', 'start_lng':'longitude'\n",
        "                        })\n",
        "        .drop_duplicates()\n",
        "      )\n",
        "data['station_id'] = data['station_id'].astype(int)\n",
        "data.info()"
      ],
      "metadata": {
        "colab": {
          "base_uri": "https://localhost:8080/"
        },
        "id": "8-U6cgXmkUIx",
        "outputId": "45a8b74e-b689-44d2-cafd-63c2e40c805b"
      },
      "execution_count": 50,
      "outputs": [
        {
          "output_type": "stream",
          "name": "stdout",
          "text": [
            "<class 'pandas.core.frame.DataFrame'>\n",
            "Index: 9378 entries, 0 to 272343\n",
            "Data columns (total 4 columns):\n",
            " #   Column        Non-Null Count  Dtype  \n",
            "---  ------        --------------  -----  \n",
            " 0   station_name  9378 non-null   object \n",
            " 1   station_id    9378 non-null   int64  \n",
            " 2   latitude      9378 non-null   float64\n",
            " 3   longitude     9378 non-null   float64\n",
            "dtypes: float64(2), int64(1), object(1)\n",
            "memory usage: 366.3+ KB\n"
          ]
        }
      ]
    },
    {
      "cell_type": "code",
      "source": [
        "# add a very special new station\n",
        "data.loc[len(data)] = ['DLA', 99999, 39.003313, -77.104553]"
      ],
      "metadata": {
        "id": "iKrEVnzgtj4J"
      },
      "execution_count": 51,
      "outputs": []
    },
    {
      "cell_type": "code",
      "source": [
        "# convert to geopandas\n",
        "# https://geopandas.org/\n",
        "\n",
        "geometry = [Point(xy) for xy in zip(data['longitude'], data['latitude'])]\n",
        "gdf = gpd.GeoDataFrame(data, geometry=geometry, crs='EPSG:4326')\n",
        "gdf = gdf.drop(['latitude', 'longitude'], axis='columns').drop_duplicates()\n",
        "gdf.sample(5)"
      ],
      "metadata": {
        "colab": {
          "base_uri": "https://localhost:8080/",
          "height": 206
        },
        "id": "re7G-tfcXBKK",
        "outputId": "0b776069-4521-48d9-9b78-711c74f234d8"
      },
      "execution_count": 52,
      "outputs": [
        {
          "output_type": "execute_result",
          "data": {
            "text/plain": [
              "                                    station_name  station_id  \\\n",
              "388                          14th & Quincy St NW       31401   \n",
              "129972                            23rd & M St NW       31128   \n",
              "157779                             5th & K St NW       31600   \n",
              "170112  Lincoln Park / 13th & East Capitol St NE       31619   \n",
              "115447                               Tanner Park       31533   \n",
              "\n",
              "                          geometry  \n",
              "388     POINT (-77.03269 38.93802)  \n",
              "129972  POINT (-77.05037 38.90531)  \n",
              "157779  POINT (-77.01922 38.90276)  \n",
              "170112  POINT (-76.98841 38.89049)  \n",
              "115447  POINT (-77.00213 38.91136)  "
            ],
            "text/html": [
              "\n",
              "  <div id=\"df-c456e597-b87f-4696-80af-6d84a11208de\" class=\"colab-df-container\">\n",
              "    <div>\n",
              "<style scoped>\n",
              "    .dataframe tbody tr th:only-of-type {\n",
              "        vertical-align: middle;\n",
              "    }\n",
              "\n",
              "    .dataframe tbody tr th {\n",
              "        vertical-align: top;\n",
              "    }\n",
              "\n",
              "    .dataframe thead th {\n",
              "        text-align: right;\n",
              "    }\n",
              "</style>\n",
              "<table border=\"1\" class=\"dataframe\">\n",
              "  <thead>\n",
              "    <tr style=\"text-align: right;\">\n",
              "      <th></th>\n",
              "      <th>station_name</th>\n",
              "      <th>station_id</th>\n",
              "      <th>geometry</th>\n",
              "    </tr>\n",
              "  </thead>\n",
              "  <tbody>\n",
              "    <tr>\n",
              "      <th>388</th>\n",
              "      <td>14th &amp; Quincy St NW</td>\n",
              "      <td>31401</td>\n",
              "      <td>POINT (-77.03269 38.93802)</td>\n",
              "    </tr>\n",
              "    <tr>\n",
              "      <th>129972</th>\n",
              "      <td>23rd &amp; M St NW</td>\n",
              "      <td>31128</td>\n",
              "      <td>POINT (-77.05037 38.90531)</td>\n",
              "    </tr>\n",
              "    <tr>\n",
              "      <th>157779</th>\n",
              "      <td>5th &amp; K St NW</td>\n",
              "      <td>31600</td>\n",
              "      <td>POINT (-77.01922 38.90276)</td>\n",
              "    </tr>\n",
              "    <tr>\n",
              "      <th>170112</th>\n",
              "      <td>Lincoln Park / 13th &amp; East Capitol St NE</td>\n",
              "      <td>31619</td>\n",
              "      <td>POINT (-76.98841 38.89049)</td>\n",
              "    </tr>\n",
              "    <tr>\n",
              "      <th>115447</th>\n",
              "      <td>Tanner Park</td>\n",
              "      <td>31533</td>\n",
              "      <td>POINT (-77.00213 38.91136)</td>\n",
              "    </tr>\n",
              "  </tbody>\n",
              "</table>\n",
              "</div>\n",
              "    <div class=\"colab-df-buttons\">\n",
              "\n",
              "  <div class=\"colab-df-container\">\n",
              "    <button class=\"colab-df-convert\" onclick=\"convertToInteractive('df-c456e597-b87f-4696-80af-6d84a11208de')\"\n",
              "            title=\"Convert this dataframe to an interactive table.\"\n",
              "            style=\"display:none;\">\n",
              "\n",
              "  <svg xmlns=\"http://www.w3.org/2000/svg\" height=\"24px\" viewBox=\"0 -960 960 960\">\n",
              "    <path d=\"M120-120v-720h720v720H120Zm60-500h600v-160H180v160Zm220 220h160v-160H400v160Zm0 220h160v-160H400v160ZM180-400h160v-160H180v160Zm440 0h160v-160H620v160ZM180-180h160v-160H180v160Zm440 0h160v-160H620v160Z\"/>\n",
              "  </svg>\n",
              "    </button>\n",
              "\n",
              "  <style>\n",
              "    .colab-df-container {\n",
              "      display:flex;\n",
              "      gap: 12px;\n",
              "    }\n",
              "\n",
              "    .colab-df-convert {\n",
              "      background-color: #E8F0FE;\n",
              "      border: none;\n",
              "      border-radius: 50%;\n",
              "      cursor: pointer;\n",
              "      display: none;\n",
              "      fill: #1967D2;\n",
              "      height: 32px;\n",
              "      padding: 0 0 0 0;\n",
              "      width: 32px;\n",
              "    }\n",
              "\n",
              "    .colab-df-convert:hover {\n",
              "      background-color: #E2EBFA;\n",
              "      box-shadow: 0px 1px 2px rgba(60, 64, 67, 0.3), 0px 1px 3px 1px rgba(60, 64, 67, 0.15);\n",
              "      fill: #174EA6;\n",
              "    }\n",
              "\n",
              "    .colab-df-buttons div {\n",
              "      margin-bottom: 4px;\n",
              "    }\n",
              "\n",
              "    [theme=dark] .colab-df-convert {\n",
              "      background-color: #3B4455;\n",
              "      fill: #D2E3FC;\n",
              "    }\n",
              "\n",
              "    [theme=dark] .colab-df-convert:hover {\n",
              "      background-color: #434B5C;\n",
              "      box-shadow: 0px 1px 3px 1px rgba(0, 0, 0, 0.15);\n",
              "      filter: drop-shadow(0px 1px 2px rgba(0, 0, 0, 0.3));\n",
              "      fill: #FFFFFF;\n",
              "    }\n",
              "  </style>\n",
              "\n",
              "    <script>\n",
              "      const buttonEl =\n",
              "        document.querySelector('#df-c456e597-b87f-4696-80af-6d84a11208de button.colab-df-convert');\n",
              "      buttonEl.style.display =\n",
              "        google.colab.kernel.accessAllowed ? 'block' : 'none';\n",
              "\n",
              "      async function convertToInteractive(key) {\n",
              "        const element = document.querySelector('#df-c456e597-b87f-4696-80af-6d84a11208de');\n",
              "        const dataTable =\n",
              "          await google.colab.kernel.invokeFunction('convertToInteractive',\n",
              "                                                    [key], {});\n",
              "        if (!dataTable) return;\n",
              "\n",
              "        const docLinkHtml = 'Like what you see? Visit the ' +\n",
              "          '<a target=\"_blank\" href=https://colab.research.google.com/notebooks/data_table.ipynb>data table notebook</a>'\n",
              "          + ' to learn more about interactive tables.';\n",
              "        element.innerHTML = '';\n",
              "        dataTable['output_type'] = 'display_data';\n",
              "        await google.colab.output.renderOutput(dataTable, element);\n",
              "        const docLink = document.createElement('div');\n",
              "        docLink.innerHTML = docLinkHtml;\n",
              "        element.appendChild(docLink);\n",
              "      }\n",
              "    </script>\n",
              "  </div>\n",
              "\n",
              "\n",
              "<div id=\"df-030727c1-cbb2-4e9f-bc81-2773dcc24ce6\">\n",
              "  <button class=\"colab-df-quickchart\" onclick=\"quickchart('df-030727c1-cbb2-4e9f-bc81-2773dcc24ce6')\"\n",
              "            title=\"Suggest charts\"\n",
              "            style=\"display:none;\">\n",
              "\n",
              "<svg xmlns=\"http://www.w3.org/2000/svg\" height=\"24px\"viewBox=\"0 0 24 24\"\n",
              "     width=\"24px\">\n",
              "    <g>\n",
              "        <path d=\"M19 3H5c-1.1 0-2 .9-2 2v14c0 1.1.9 2 2 2h14c1.1 0 2-.9 2-2V5c0-1.1-.9-2-2-2zM9 17H7v-7h2v7zm4 0h-2V7h2v10zm4 0h-2v-4h2v4z\"/>\n",
              "    </g>\n",
              "</svg>\n",
              "  </button>\n",
              "\n",
              "<style>\n",
              "  .colab-df-quickchart {\n",
              "      --bg-color: #E8F0FE;\n",
              "      --fill-color: #1967D2;\n",
              "      --hover-bg-color: #E2EBFA;\n",
              "      --hover-fill-color: #174EA6;\n",
              "      --disabled-fill-color: #AAA;\n",
              "      --disabled-bg-color: #DDD;\n",
              "  }\n",
              "\n",
              "  [theme=dark] .colab-df-quickchart {\n",
              "      --bg-color: #3B4455;\n",
              "      --fill-color: #D2E3FC;\n",
              "      --hover-bg-color: #434B5C;\n",
              "      --hover-fill-color: #FFFFFF;\n",
              "      --disabled-bg-color: #3B4455;\n",
              "      --disabled-fill-color: #666;\n",
              "  }\n",
              "\n",
              "  .colab-df-quickchart {\n",
              "    background-color: var(--bg-color);\n",
              "    border: none;\n",
              "    border-radius: 50%;\n",
              "    cursor: pointer;\n",
              "    display: none;\n",
              "    fill: var(--fill-color);\n",
              "    height: 32px;\n",
              "    padding: 0;\n",
              "    width: 32px;\n",
              "  }\n",
              "\n",
              "  .colab-df-quickchart:hover {\n",
              "    background-color: var(--hover-bg-color);\n",
              "    box-shadow: 0 1px 2px rgba(60, 64, 67, 0.3), 0 1px 3px 1px rgba(60, 64, 67, 0.15);\n",
              "    fill: var(--button-hover-fill-color);\n",
              "  }\n",
              "\n",
              "  .colab-df-quickchart-complete:disabled,\n",
              "  .colab-df-quickchart-complete:disabled:hover {\n",
              "    background-color: var(--disabled-bg-color);\n",
              "    fill: var(--disabled-fill-color);\n",
              "    box-shadow: none;\n",
              "  }\n",
              "\n",
              "  .colab-df-spinner {\n",
              "    border: 2px solid var(--fill-color);\n",
              "    border-color: transparent;\n",
              "    border-bottom-color: var(--fill-color);\n",
              "    animation:\n",
              "      spin 1s steps(1) infinite;\n",
              "  }\n",
              "\n",
              "  @keyframes spin {\n",
              "    0% {\n",
              "      border-color: transparent;\n",
              "      border-bottom-color: var(--fill-color);\n",
              "      border-left-color: var(--fill-color);\n",
              "    }\n",
              "    20% {\n",
              "      border-color: transparent;\n",
              "      border-left-color: var(--fill-color);\n",
              "      border-top-color: var(--fill-color);\n",
              "    }\n",
              "    30% {\n",
              "      border-color: transparent;\n",
              "      border-left-color: var(--fill-color);\n",
              "      border-top-color: var(--fill-color);\n",
              "      border-right-color: var(--fill-color);\n",
              "    }\n",
              "    40% {\n",
              "      border-color: transparent;\n",
              "      border-right-color: var(--fill-color);\n",
              "      border-top-color: var(--fill-color);\n",
              "    }\n",
              "    60% {\n",
              "      border-color: transparent;\n",
              "      border-right-color: var(--fill-color);\n",
              "    }\n",
              "    80% {\n",
              "      border-color: transparent;\n",
              "      border-right-color: var(--fill-color);\n",
              "      border-bottom-color: var(--fill-color);\n",
              "    }\n",
              "    90% {\n",
              "      border-color: transparent;\n",
              "      border-bottom-color: var(--fill-color);\n",
              "    }\n",
              "  }\n",
              "</style>\n",
              "\n",
              "  <script>\n",
              "    async function quickchart(key) {\n",
              "      const quickchartButtonEl =\n",
              "        document.querySelector('#' + key + ' button');\n",
              "      quickchartButtonEl.disabled = true;  // To prevent multiple clicks.\n",
              "      quickchartButtonEl.classList.add('colab-df-spinner');\n",
              "      try {\n",
              "        const charts = await google.colab.kernel.invokeFunction(\n",
              "            'suggestCharts', [key], {});\n",
              "      } catch (error) {\n",
              "        console.error('Error during call to suggestCharts:', error);\n",
              "      }\n",
              "      quickchartButtonEl.classList.remove('colab-df-spinner');\n",
              "      quickchartButtonEl.classList.add('colab-df-quickchart-complete');\n",
              "    }\n",
              "    (() => {\n",
              "      let quickchartButtonEl =\n",
              "        document.querySelector('#df-030727c1-cbb2-4e9f-bc81-2773dcc24ce6 button');\n",
              "      quickchartButtonEl.style.display =\n",
              "        google.colab.kernel.accessAllowed ? 'block' : 'none';\n",
              "    })();\n",
              "  </script>\n",
              "</div>\n",
              "\n",
              "    </div>\n",
              "  </div>\n"
            ],
            "application/vnd.google.colaboratory.intrinsic+json": {
              "type": "dataframe",
              "summary": "{\n  \"name\": \"gdf\",\n  \"rows\": 5,\n  \"fields\": [\n    {\n      \"column\": \"station_name\",\n      \"properties\": {\n        \"dtype\": \"string\",\n        \"num_unique_values\": 5,\n        \"samples\": [\n          \"23rd & M St NW\",\n          \"Tanner Park\",\n          \"5th & K St NW\"\n        ],\n        \"semantic_type\": \"\",\n        \"description\": \"\"\n      }\n    },\n    {\n      \"column\": \"station_id\",\n      \"properties\": {\n        \"dtype\": \"number\",\n        \"std\": 202,\n        \"min\": 31128,\n        \"max\": 31619,\n        \"num_unique_values\": 5,\n        \"samples\": [\n          31128,\n          31533,\n          31600\n        ],\n        \"semantic_type\": \"\",\n        \"description\": \"\"\n      }\n    },\n    {\n      \"column\": \"geometry\",\n      \"properties\": {\n        \"dtype\": \"geometry\",\n        \"num_unique_values\": 5,\n        \"samples\": [\n          \"POINT (-77.050370455 38.905314088)\",\n          \"POINT (-77.002126455 38.911364675)\",\n          \"POINT (-77.019219637 38.902764916)\"\n        ],\n        \"semantic_type\": \"\",\n        \"description\": \"\"\n      }\n    }\n  ]\n}"
            }
          },
          "metadata": {},
          "execution_count": 52
        }
      ]
    },
    {
      "cell_type": "markdown",
      "source": [
        "## How well does a chatbot do alone"
      ],
      "metadata": {
        "id": "B3M0sZavR9Ie"
      }
    },
    {
      "cell_type": "code",
      "source": [
        "prompt = \"\"\"I want to find a route using CaBi to start at the closest station to\n",
        "Pike & Rose, North Bethesda MD 20852 and ending at the closest station to\n",
        "10 Center Dr, Bethesda, MD 20814.\n",
        "Can you create one for me?\"\"\"\n",
        "\n",
        "client = OAI()\n",
        "\n",
        "chat_completion = client.chat.completions.create(\n",
        "    messages=[\n",
        "        {\n",
        "            \"role\": \"user\",\n",
        "            \"content\": prompt,\n",
        "        }\n",
        "    ],\n",
        "    model=\"gpt-3.5-turbo\",\n",
        ")\n",
        "print(chat_completion.choices[0].message.content)"
      ],
      "metadata": {
        "id": "PN6UrATWQK5q",
        "colab": {
          "base_uri": "https://localhost:8080/"
        },
        "outputId": "be79b4ac-971e-4bed-ff00-e21afcfe80d6"
      },
      "execution_count": 53,
      "outputs": [
        {
          "output_type": "stream",
          "name": "stdout",
          "text": [
            "Sure! Here is a suggested route using Capital Bikeshare (CaBi) from Pike & Rose to 10 Center Dr:\n",
            "\n",
            "1. Start at the Pike & Rose CaBi station located at:\n",
            "11580 Old Georgetown Rd, North Bethesda, MD 20852\n",
            "\n",
            "2. Ride south on Old Georgetown Rd towards Rockville Pike.\n",
            "\n",
            "3. Turn left onto Rockville Pike and continue south.\n",
            "\n",
            "4. Turn right onto Center Dr and continue towards 10 Center Dr, Bethesda, MD 20814.\n",
            "\n",
            "5. End at the Bethesda Metro CaBi station located at:\n",
            "7450 Wisconsin Ave, Bethesda, MD 20814\n",
            "\n",
            "This route is approximately 2 miles and should take about 15-20 minutes to bike. Enjoy your ride!\n"
          ]
        }
      ]
    },
    {
      "cell_type": "markdown",
      "source": [
        "## Build tools\n",
        "\n",
        "* use osm map tool to find location to start at, and end at\n",
        "* then make tool to get closest cabi start and end locations.\n",
        "* build with geopandas."
      ],
      "metadata": {
        "id": "Pw9b6lt3KlpP"
      }
    },
    {
      "cell_type": "code",
      "source": [
        "# tool for getting lat, lon given an address\n",
        "# https://nominatim.org/\n",
        "\n",
        "def get_latlon(address):\n",
        "  geolocator = Nominatim(user_agent='DLA_app')\n",
        "  try:\n",
        "    time.sleep(1)\n",
        "    location = geolocator.geocode(address)\n",
        "    print(location)\n",
        "    return location.latitude, location.longitude\n",
        "  except Exception as e:\n",
        "        print(f\"Error geocoding address: {str(e)}\")\n",
        "        return None\n",
        "\n",
        "test_address = \"1600 Pennsylvania Avenue NW, Washington, DC 20500\"\n",
        "\n",
        "lat, lon = get_latlon(test_address)\n",
        "assert lat == 38.897699700000004\n",
        "assert lon == -77.03655315\n",
        "\n",
        "location_tool = FunctionTool.from_defaults(fn=get_latlon\n",
        "                                           , name='get_location'\n",
        "                                           , description='Gets latitude and longitude of a location given the address')"
      ],
      "metadata": {
        "colab": {
          "base_uri": "https://localhost:8080/"
        },
        "id": "7GDWdaioRy73",
        "outputId": "e5c1785e-d710-40be-a420-e6f7a62e1294"
      },
      "execution_count": 54,
      "outputs": [
        {
          "output_type": "stream",
          "name": "stdout",
          "text": [
            "White House, 1600, Pennsylvania Avenue Northwest, Penn Quarter, Ward 2, Washington, District of Columbia, 20500, United States\n"
          ]
        }
      ]
    },
    {
      "cell_type": "code",
      "source": [
        "# test location_tool\n",
        "\n",
        "test_agent = OpenAIAgent.from_tools(\n",
        "    [location_tool]\n",
        "    , verbose=True\n",
        ")\n",
        "\n",
        "\n",
        "response = test_agent.chat('''\n",
        "  What is the latitude of 1600 Pennsylvania Avenue NW, Washington, DC 20500?\n",
        "  Respond with a JSON object.\n",
        "          ''', tool_choice='auto')\n",
        "d = json.loads(response.response)\n",
        "assert 38.897699700000004 == d['latitude']\n",
        "\n",
        "\n",
        "response = test_agent.chat('''\n",
        "  What is the longitude of 1600 Pennsylvania Avenue NW, Washington, DC 20500?\n",
        "  Respond with a JSON object.\n",
        "          ''', tool_choice='auto')\n",
        "d = json.loads(response.response)\n",
        "assert -77.03655315 == d['longitude']\n"
      ],
      "metadata": {
        "colab": {
          "base_uri": "https://localhost:8080/"
        },
        "id": "qZs3C7DoRy-b",
        "outputId": "147f1459-7bd8-47a3-b070-0f7cea7fbe2f"
      },
      "execution_count": 55,
      "outputs": [
        {
          "output_type": "stream",
          "name": "stdout",
          "text": [
            "Added user message to memory: \n",
            "  What is the latitude of 1600 Pennsylvania Avenue NW, Washington, DC 20500?\n",
            "  Respond with a JSON object.\n",
            "          \n",
            "=== Calling Function ===\n",
            "Calling function: get_location with args: {\"address\":\"1600 Pennsylvania Avenue NW, Washington, DC 20500\"}\n",
            "White House, 1600, Pennsylvania Avenue Northwest, Penn Quarter, Ward 2, Washington, District of Columbia, 20500, United States\n",
            "Got output: (38.897699700000004, -77.03655315)\n",
            "========================\n",
            "\n",
            "Added user message to memory: \n",
            "  What is the longitude of 1600 Pennsylvania Avenue NW, Washington, DC 20500?\n",
            "  Respond with a JSON object.\n",
            "          \n"
          ]
        }
      ]
    },
    {
      "cell_type": "code",
      "source": [
        "# tool for querying CaBi geopandas dataframe\n",
        "# https://docs.llamaindex.ai/en/stable/examples/query_engine/pandas_query_engine/\n",
        "\n",
        "query_engine = PandasQueryEngine(df=gdf, verbose=True)\n",
        "\n",
        "response = query_engine.query(\"\"\"\n",
        "What is the geometry of the Oak Leaf & Lockwood\tstation?\n",
        "\"\"\"\n",
        ")\n"
      ],
      "metadata": {
        "colab": {
          "base_uri": "https://localhost:8080/"
        },
        "id": "-OmI6iUYRzBT",
        "outputId": "af3fa578-42d3-4ca4-adcd-6772663b23bd"
      },
      "execution_count": 56,
      "outputs": [
        {
          "output_type": "stream",
          "name": "stdout",
          "text": [
            "> Pandas Instructions:\n",
            "```\n",
            "df[df['station_name'] == 'Oak Leaf & Lockwood'].geometry.values[0]\n",
            "```\n",
            "> Pandas Output: POINT (-76.9945391 39.0379809)\n"
          ]
        }
      ]
    },
    {
      "cell_type": "code",
      "source": [
        "data[data['station_name']=='Oak Leaf & Lockwood']"
      ],
      "metadata": {
        "colab": {
          "base_uri": "https://localhost:8080/",
          "height": 81
        },
        "id": "4qQ_i6YZmmLW",
        "outputId": "1aae00bd-1f5f-4998-abdc-66622e1da81d"
      },
      "execution_count": 57,
      "outputs": [
        {
          "output_type": "execute_result",
          "data": {
            "text/plain": [
              "              station_name  station_id   latitude  longitude\n",
              "55562  Oak Leaf & Lockwood       32094  39.037981 -76.994539"
            ],
            "text/html": [
              "\n",
              "  <div id=\"df-707eccb5-6c42-4720-bc44-20e5c9b9de92\" class=\"colab-df-container\">\n",
              "    <div>\n",
              "<style scoped>\n",
              "    .dataframe tbody tr th:only-of-type {\n",
              "        vertical-align: middle;\n",
              "    }\n",
              "\n",
              "    .dataframe tbody tr th {\n",
              "        vertical-align: top;\n",
              "    }\n",
              "\n",
              "    .dataframe thead th {\n",
              "        text-align: right;\n",
              "    }\n",
              "</style>\n",
              "<table border=\"1\" class=\"dataframe\">\n",
              "  <thead>\n",
              "    <tr style=\"text-align: right;\">\n",
              "      <th></th>\n",
              "      <th>station_name</th>\n",
              "      <th>station_id</th>\n",
              "      <th>latitude</th>\n",
              "      <th>longitude</th>\n",
              "    </tr>\n",
              "  </thead>\n",
              "  <tbody>\n",
              "    <tr>\n",
              "      <th>55562</th>\n",
              "      <td>Oak Leaf &amp; Lockwood</td>\n",
              "      <td>32094</td>\n",
              "      <td>39.037981</td>\n",
              "      <td>-76.994539</td>\n",
              "    </tr>\n",
              "  </tbody>\n",
              "</table>\n",
              "</div>\n",
              "    <div class=\"colab-df-buttons\">\n",
              "\n",
              "  <div class=\"colab-df-container\">\n",
              "    <button class=\"colab-df-convert\" onclick=\"convertToInteractive('df-707eccb5-6c42-4720-bc44-20e5c9b9de92')\"\n",
              "            title=\"Convert this dataframe to an interactive table.\"\n",
              "            style=\"display:none;\">\n",
              "\n",
              "  <svg xmlns=\"http://www.w3.org/2000/svg\" height=\"24px\" viewBox=\"0 -960 960 960\">\n",
              "    <path d=\"M120-120v-720h720v720H120Zm60-500h600v-160H180v160Zm220 220h160v-160H400v160Zm0 220h160v-160H400v160ZM180-400h160v-160H180v160Zm440 0h160v-160H620v160ZM180-180h160v-160H180v160Zm440 0h160v-160H620v160Z\"/>\n",
              "  </svg>\n",
              "    </button>\n",
              "\n",
              "  <style>\n",
              "    .colab-df-container {\n",
              "      display:flex;\n",
              "      gap: 12px;\n",
              "    }\n",
              "\n",
              "    .colab-df-convert {\n",
              "      background-color: #E8F0FE;\n",
              "      border: none;\n",
              "      border-radius: 50%;\n",
              "      cursor: pointer;\n",
              "      display: none;\n",
              "      fill: #1967D2;\n",
              "      height: 32px;\n",
              "      padding: 0 0 0 0;\n",
              "      width: 32px;\n",
              "    }\n",
              "\n",
              "    .colab-df-convert:hover {\n",
              "      background-color: #E2EBFA;\n",
              "      box-shadow: 0px 1px 2px rgba(60, 64, 67, 0.3), 0px 1px 3px 1px rgba(60, 64, 67, 0.15);\n",
              "      fill: #174EA6;\n",
              "    }\n",
              "\n",
              "    .colab-df-buttons div {\n",
              "      margin-bottom: 4px;\n",
              "    }\n",
              "\n",
              "    [theme=dark] .colab-df-convert {\n",
              "      background-color: #3B4455;\n",
              "      fill: #D2E3FC;\n",
              "    }\n",
              "\n",
              "    [theme=dark] .colab-df-convert:hover {\n",
              "      background-color: #434B5C;\n",
              "      box-shadow: 0px 1px 3px 1px rgba(0, 0, 0, 0.15);\n",
              "      filter: drop-shadow(0px 1px 2px rgba(0, 0, 0, 0.3));\n",
              "      fill: #FFFFFF;\n",
              "    }\n",
              "  </style>\n",
              "\n",
              "    <script>\n",
              "      const buttonEl =\n",
              "        document.querySelector('#df-707eccb5-6c42-4720-bc44-20e5c9b9de92 button.colab-df-convert');\n",
              "      buttonEl.style.display =\n",
              "        google.colab.kernel.accessAllowed ? 'block' : 'none';\n",
              "\n",
              "      async function convertToInteractive(key) {\n",
              "        const element = document.querySelector('#df-707eccb5-6c42-4720-bc44-20e5c9b9de92');\n",
              "        const dataTable =\n",
              "          await google.colab.kernel.invokeFunction('convertToInteractive',\n",
              "                                                    [key], {});\n",
              "        if (!dataTable) return;\n",
              "\n",
              "        const docLinkHtml = 'Like what you see? Visit the ' +\n",
              "          '<a target=\"_blank\" href=https://colab.research.google.com/notebooks/data_table.ipynb>data table notebook</a>'\n",
              "          + ' to learn more about interactive tables.';\n",
              "        element.innerHTML = '';\n",
              "        dataTable['output_type'] = 'display_data';\n",
              "        await google.colab.output.renderOutput(dataTable, element);\n",
              "        const docLink = document.createElement('div');\n",
              "        docLink.innerHTML = docLinkHtml;\n",
              "        element.appendChild(docLink);\n",
              "      }\n",
              "    </script>\n",
              "  </div>\n",
              "\n",
              "\n",
              "    </div>\n",
              "  </div>\n"
            ],
            "application/vnd.google.colaboratory.intrinsic+json": {
              "type": "dataframe",
              "summary": "{\n  \"name\": \"data[data['station_name']=='Oak Leaf & Lockwood']\",\n  \"rows\": 1,\n  \"fields\": [\n    {\n      \"column\": \"station_name\",\n      \"properties\": {\n        \"dtype\": \"string\",\n        \"num_unique_values\": 1,\n        \"samples\": [\n          \"Oak Leaf & Lockwood\"\n        ],\n        \"semantic_type\": \"\",\n        \"description\": \"\"\n      }\n    },\n    {\n      \"column\": \"station_id\",\n      \"properties\": {\n        \"dtype\": \"number\",\n        \"std\": null,\n        \"min\": 32094,\n        \"max\": 32094,\n        \"num_unique_values\": 1,\n        \"samples\": [\n          32094\n        ],\n        \"semantic_type\": \"\",\n        \"description\": \"\"\n      }\n    },\n    {\n      \"column\": \"latitude\",\n      \"properties\": {\n        \"dtype\": \"number\",\n        \"std\": null,\n        \"min\": 39.0379809,\n        \"max\": 39.0379809,\n        \"num_unique_values\": 1,\n        \"samples\": [\n          39.0379809\n        ],\n        \"semantic_type\": \"\",\n        \"description\": \"\"\n      }\n    },\n    {\n      \"column\": \"longitude\",\n      \"properties\": {\n        \"dtype\": \"number\",\n        \"std\": null,\n        \"min\": -76.9945391,\n        \"max\": -76.9945391,\n        \"num_unique_values\": 1,\n        \"samples\": [\n          -76.9945391\n        ],\n        \"semantic_type\": \"\",\n        \"description\": \"\"\n      }\n    }\n  ]\n}"
            }
          },
          "metadata": {},
          "execution_count": 57
        }
      ]
    },
    {
      "cell_type": "code",
      "source": [
        "response = query_engine.query(\"\"\"\n",
        "What is the latitude of the Fort Stanton Rec Center station?\n",
        "\"\"\")"
      ],
      "metadata": {
        "colab": {
          "base_uri": "https://localhost:8080/"
        },
        "id": "7nSrpLjHZUrv",
        "outputId": "87bef026-a379-4b07-f796-356eaba0f5ff"
      },
      "execution_count": 58,
      "outputs": [
        {
          "output_type": "stream",
          "name": "stdout",
          "text": [
            "> Pandas Instructions:\n",
            "```\n",
            "df[df['station_name'] == 'Fort Stanton Rec Center']['geometry'].iloc[0].y\n",
            "```\n",
            "> Pandas Output: 38.85736903758752\n"
          ]
        }
      ]
    },
    {
      "cell_type": "code",
      "source": [
        "data[data['station_name']=='Fort Stanton Rec Center']['latitude']"
      ],
      "metadata": {
        "colab": {
          "base_uri": "https://localhost:8080/",
          "height": 115
        },
        "id": "E2MiAus0fcBo",
        "outputId": "60fbc67b-611c-4afa-a33e-254b50d716c5"
      },
      "execution_count": 59,
      "outputs": [
        {
          "output_type": "execute_result",
          "data": {
            "text/plain": [
              "27648    38.857369\n",
              "Name: latitude, dtype: float64"
            ],
            "text/html": [
              "<div>\n",
              "<style scoped>\n",
              "    .dataframe tbody tr th:only-of-type {\n",
              "        vertical-align: middle;\n",
              "    }\n",
              "\n",
              "    .dataframe tbody tr th {\n",
              "        vertical-align: top;\n",
              "    }\n",
              "\n",
              "    .dataframe thead th {\n",
              "        text-align: right;\n",
              "    }\n",
              "</style>\n",
              "<table border=\"1\" class=\"dataframe\">\n",
              "  <thead>\n",
              "    <tr style=\"text-align: right;\">\n",
              "      <th></th>\n",
              "      <th>latitude</th>\n",
              "    </tr>\n",
              "  </thead>\n",
              "  <tbody>\n",
              "    <tr>\n",
              "      <th>27648</th>\n",
              "      <td>38.857369</td>\n",
              "    </tr>\n",
              "  </tbody>\n",
              "</table>\n",
              "</div><br><label><b>dtype:</b> float64</label>"
            ]
          },
          "metadata": {},
          "execution_count": 59
        }
      ]
    },
    {
      "cell_type": "code",
      "source": [
        "#Can it do something more sophisticated?\n",
        "response = query_engine.query(\"\"\"\n",
        "What is the nearest station to latitude = 39.036 and longitude = -76.9951 ?\n",
        "\"\"\")\n",
        "\n",
        "#Nope. Though it looks almost like it is almost using the right logic."
      ],
      "metadata": {
        "id": "2tRFlxzKJmCk",
        "colab": {
          "base_uri": "https://localhost:8080/"
        },
        "outputId": "808194a6-a186-461e-97ef-180c38c780d1"
      },
      "execution_count": 60,
      "outputs": [
        {
          "output_type": "stream",
          "name": "stdout",
          "text": [
            "> Pandas Instructions:\n",
            "```\n",
            "df['distance'] = df['geometry'].apply(lambda x: x.distance(Point(-76.9951, 39.036)))\n",
            "df.loc[df['distance'].idxmin()]['station_name']\n",
            "```\n",
            "> Pandas Output: There was an error running the output as Python code. Error message: name 'Point' is not defined\n"
          ]
        },
        {
          "output_type": "stream",
          "name": "stderr",
          "text": [
            "Traceback (most recent call last):\n",
            "  File \"/usr/local/lib/python3.11/dist-packages/llama_index/experimental/query_engine/pandas/output_parser.py\", line 42, in default_output_processor\n",
            "    safe_exec(ast.unparse(module), {}, local_vars)  # type: ignore\n",
            "    ^^^^^^^^^^^^^^^^^^^^^^^^^^^^^^^^^^^^^^^^^^^^^^\n",
            "  File \"/usr/local/lib/python3.11/dist-packages/llama_index/experimental/exec_utils.py\", line 171, in safe_exec\n",
            "    return exec(__source, _get_restricted_globals(__globals), __locals)\n",
            "           ^^^^^^^^^^^^^^^^^^^^^^^^^^^^^^^^^^^^^^^^^^^^^^^^^^^^^^^^^^^^\n",
            "  File \"<string>\", line 1, in <module>\n",
            "  File \"/usr/local/lib/python3.11/dist-packages/geopandas/geoseries.py\", line 752, in apply\n",
            "    result = super().apply(func, args=args, **kwargs)\n",
            "             ^^^^^^^^^^^^^^^^^^^^^^^^^^^^^^^^^^^^^^^^\n",
            "  File \"/usr/local/lib/python3.11/dist-packages/pandas/core/series.py\", line 4924, in apply\n",
            "    ).apply()\n",
            "      ^^^^^^^\n",
            "  File \"/usr/local/lib/python3.11/dist-packages/pandas/core/apply.py\", line 1427, in apply\n",
            "    return self.apply_standard()\n",
            "           ^^^^^^^^^^^^^^^^^^^^^\n",
            "  File \"/usr/local/lib/python3.11/dist-packages/pandas/core/apply.py\", line 1507, in apply_standard\n",
            "    mapped = obj._map_values(\n",
            "             ^^^^^^^^^^^^^^^^\n",
            "  File \"/usr/local/lib/python3.11/dist-packages/pandas/core/base.py\", line 919, in _map_values\n",
            "    return arr.map(mapper, na_action=na_action)\n",
            "           ^^^^^^^^^^^^^^^^^^^^^^^^^^^^^^^^^^^^\n",
            "  File \"/usr/local/lib/python3.11/dist-packages/pandas/core/arrays/base.py\", line 2322, in map\n",
            "    return map_array(self, mapper, na_action=na_action)\n",
            "           ^^^^^^^^^^^^^^^^^^^^^^^^^^^^^^^^^^^^^^^^^^^^\n",
            "  File \"/usr/local/lib/python3.11/dist-packages/pandas/core/algorithms.py\", line 1743, in map_array\n",
            "    return lib.map_infer(values, mapper, convert=convert)\n",
            "           ^^^^^^^^^^^^^^^^^^^^^^^^^^^^^^^^^^^^^^^^^^^^^^\n",
            "  File \"lib.pyx\", line 2972, in pandas._libs.lib.map_infer\n",
            "  File \"<string>\", line 1, in <lambda>\n",
            "NameError: name 'Point' is not defined\n"
          ]
        }
      ]
    },
    {
      "cell_type": "code",
      "source": [
        "# build a tool using GeoPandas methods to find the nearest station\n",
        "\n",
        "def find_nearest_point(latitude, longitude):\n",
        "\n",
        "    target_point = Point(longitude, latitude)  # Note: longitude comes first in Point()\n",
        "    gdf['distance'] = gdf.geometry.distance(target_point)\n",
        "\n",
        "    # Find the row with minimum distance\n",
        "    nearest_point = gdf.loc[gdf['distance'].idxmin()]\n",
        "\n",
        "    return nearest_point['station_id'], nearest_point['station_name']\n",
        "\n",
        "assert find_nearest_point(39.036, -76.9951) == (32094, 'Oak Leaf & Lockwood')\n",
        "\n",
        "nearest_station_tool = FunctionTool.from_defaults(fn=find_nearest_point\n",
        "                                           , name='nearest_station_tool'\n",
        "                                           , description='Gets the nearest station given a latitude and longitude as input')"
      ],
      "metadata": {
        "id": "F8cUz3iHNn_O"
      },
      "execution_count": 61,
      "outputs": []
    },
    {
      "cell_type": "code",
      "source": [
        "# tool to look up latlon via station name\n",
        "def get_lat_lon_by_station_name(name: str) -> Tuple[float, float]:\n",
        "  lat = query_engine.query('What is the latitude of ' + name)\n",
        "  lon = query_engine.query('What is the longitude of ' + name)\n",
        "  return lat, lon\n",
        "\n",
        "\n",
        "station_location_tool = FunctionTool.from_defaults(fn=get_lat_lon_by_station_name\n",
        "                                           , name='get_station_location'\n",
        "                                           , description='Gets latitude and longitude of a station via the station name')\n",
        "\n",
        "# tool to calculate distance in miles using geodisic class from geopy\n",
        "# https://geopy.readthedocs.io/en/stable/#module-geopy.distance\n",
        "def get_distance(lat1: float, lon1: float, lat2: float, lon2: float) -> float:\n",
        "  loc1 = (lat1, lon1)\n",
        "  loc2 = (lat2, lon2)\n",
        "  distance = geodesic(loc1, loc2).miles\n",
        "  return distance\n",
        "\n",
        "distance_tool = FunctionTool.from_defaults(fn=get_distance\n",
        "                                           , name='distance'\n",
        "                                           , description='Gets distance in miles given the latitude and longitude of two locations')"
      ],
      "metadata": {
        "id": "aFv7DZYPfcEM"
      },
      "execution_count": 62,
      "outputs": []
    },
    {
      "cell_type": "code",
      "source": [
        "test_agent = OpenAIAgent.from_tools(tools=[station_location_tool, distance_tool, nearest_station_tool], verbose=True)"
      ],
      "metadata": {
        "id": "5wTwtRmffcG7"
      },
      "execution_count": 63,
      "outputs": []
    },
    {
      "cell_type": "code",
      "source": [
        "response = test_agent.chat(\"\"\"\n",
        "  What is the latitude of the station named Fort Stanton Rec Center?\n",
        "\"\"\")"
      ],
      "metadata": {
        "colab": {
          "base_uri": "https://localhost:8080/"
        },
        "id": "z6cTRcSofcJW",
        "outputId": "eff21b3e-457d-424b-846e-5b1e5700ae3c"
      },
      "execution_count": 64,
      "outputs": [
        {
          "output_type": "stream",
          "name": "stdout",
          "text": [
            "Added user message to memory: \n",
            "  What is the latitude of the station named Fort Stanton Rec Center?\n",
            "\n",
            "=== Calling Function ===\n",
            "Calling function: get_station_location with args: {\"name\":\"Fort Stanton Rec Center\"}\n",
            "> Pandas Instructions:\n",
            "```\n",
            "df[df['station_name'] == 'Fort Stanton Rec Center']['geometry'].values[0].y\n",
            "```\n",
            "> Pandas Output: 38.85736903758752\n",
            "> Pandas Instructions:\n",
            "```\n",
            "df[df['station_name'] == 'Fort Stanton Rec Center']['geometry'].x.iloc[0]\n",
            "```\n",
            "> Pandas Output: -76.97768801437633\n",
            "Got output: (Response(response='38.85736903758752', source_nodes=[], metadata={'pandas_instruction_str': \"df[df['station_name'] == 'Fort Stanton Rec Center']['geometry'].values[0].y\", 'raw_pandas_output': '38.85736903758752'}), Response(response='-76.97768801437633', source_nodes=[], metadata={'pandas_instruction_str': \"df[df['station_name'] == 'Fort Stanton Rec Center']['geometry'].x.iloc[0]\", 'raw_pandas_output': '-76.97768801437633'}))\n",
            "========================\n",
            "\n"
          ]
        }
      ]
    },
    {
      "cell_type": "code",
      "source": [
        "print(response.response)"
      ],
      "metadata": {
        "colab": {
          "base_uri": "https://localhost:8080/"
        },
        "id": "YPSj-hM1RzD1",
        "outputId": "0d6c2efc-2ece-44ea-a4a0-c73c66611b2d"
      },
      "execution_count": 65,
      "outputs": [
        {
          "output_type": "stream",
          "name": "stdout",
          "text": [
            "The latitude of the station named Fort Stanton Rec Center is 38.85736903758752.\n"
          ]
        }
      ]
    },
    {
      "cell_type": "code",
      "source": [
        "data[data['station_name']=='Southern Ave Metro']['latitude']"
      ],
      "metadata": {
        "colab": {
          "base_uri": "https://localhost:8080/",
          "height": 115
        },
        "id": "ZKCYCV8ZcPnT",
        "outputId": "4a2e0871-f583-48ca-89fa-b1a94b34917b"
      },
      "execution_count": 66,
      "outputs": [
        {
          "output_type": "execute_result",
          "data": {
            "text/plain": [
              "26045    38.840107\n",
              "Name: latitude, dtype: float64"
            ],
            "text/html": [
              "<div>\n",
              "<style scoped>\n",
              "    .dataframe tbody tr th:only-of-type {\n",
              "        vertical-align: middle;\n",
              "    }\n",
              "\n",
              "    .dataframe tbody tr th {\n",
              "        vertical-align: top;\n",
              "    }\n",
              "\n",
              "    .dataframe thead th {\n",
              "        text-align: right;\n",
              "    }\n",
              "</style>\n",
              "<table border=\"1\" class=\"dataframe\">\n",
              "  <thead>\n",
              "    <tr style=\"text-align: right;\">\n",
              "      <th></th>\n",
              "      <th>latitude</th>\n",
              "    </tr>\n",
              "  </thead>\n",
              "  <tbody>\n",
              "    <tr>\n",
              "      <th>26045</th>\n",
              "      <td>38.840107</td>\n",
              "    </tr>\n",
              "  </tbody>\n",
              "</table>\n",
              "</div><br><label><b>dtype:</b> float64</label>"
            ]
          },
          "metadata": {},
          "execution_count": 66
        }
      ]
    },
    {
      "cell_type": "code",
      "source": [
        "response = test_agent.chat(\"\"\"\n",
        "  What is id and name of the nearest station to latitude of 38.840, longitude of -76.975?\n",
        "\"\"\")"
      ],
      "metadata": {
        "colab": {
          "base_uri": "https://localhost:8080/"
        },
        "id": "7woAV5WsSDiX",
        "outputId": "df4de825-db91-4dd5-ec05-970d0b2dff92"
      },
      "execution_count": 67,
      "outputs": [
        {
          "output_type": "stream",
          "name": "stdout",
          "text": [
            "Added user message to memory: \n",
            "  What is id and name of the nearest station to latitude of 38.840, longitude of -76.975?\n",
            "\n",
            "=== Calling Function ===\n",
            "Calling function: nearest_station_tool with args: {\"latitude\":38.84,\"longitude\":-76.975}\n",
            "Got output: (np.int64(32409), 'Southern Ave Metro')\n",
            "========================\n",
            "\n"
          ]
        }
      ]
    },
    {
      "cell_type": "code",
      "source": [
        "response.response"
      ],
      "metadata": {
        "colab": {
          "base_uri": "https://localhost:8080/",
          "height": 35
        },
        "id": "F160ORIySxGg",
        "outputId": "6a320047-d69e-42e7-f0cc-fa45f94cb0f7"
      },
      "execution_count": 68,
      "outputs": [
        {
          "output_type": "execute_result",
          "data": {
            "text/plain": [
              "'The nearest station to the latitude 38.840 and longitude -76.975 is with ID 32409 and named Southern Ave Metro.'"
            ],
            "application/vnd.google.colaboratory.intrinsic+json": {
              "type": "string"
            }
          },
          "metadata": {},
          "execution_count": 68
        }
      ]
    },
    {
      "cell_type": "code",
      "source": [
        "response = test_agent.chat(\"\"\"\n",
        "What is the distance between the station named Southern Ave Metro station and the station named Jones Branch & Westbranch Dr?\n",
        "\"\"\")"
      ],
      "metadata": {
        "colab": {
          "base_uri": "https://localhost:8080/"
        },
        "id": "hzh2CsiWcPp4",
        "outputId": "fe126c71-5552-495b-b019-0fa3f04b4811"
      },
      "execution_count": 69,
      "outputs": [
        {
          "output_type": "stream",
          "name": "stdout",
          "text": [
            "Added user message to memory: \n",
            "What is the distance between the station named Southern Ave Metro station and the station named Jones Branch & Westbranch Dr?\n",
            "\n",
            "=== Calling Function ===\n",
            "Calling function: get_station_location with args: {\"name\": \"Southern Ave Metro\"}\n",
            "> Pandas Instructions:\n",
            "```\n",
            "df[df['station_name'] == 'Southern Ave Metro']['geometry'].values[0].y\n",
            "```\n",
            "> Pandas Output: 38.840107\n",
            "> Pandas Instructions:\n",
            "```\n",
            "df[df['station_name'] == 'Southern Ave Metro']['geometry'].x.iloc[0]\n",
            "```\n",
            "> Pandas Output: -76.9753\n",
            "Got output: (Response(response='38.840107', source_nodes=[], metadata={'pandas_instruction_str': \"df[df['station_name'] == 'Southern Ave Metro']['geometry'].values[0].y\", 'raw_pandas_output': '38.840107'}), Response(response='-76.9753', source_nodes=[], metadata={'pandas_instruction_str': \"df[df['station_name'] == 'Southern Ave Metro']['geometry'].x.iloc[0]\", 'raw_pandas_output': '-76.9753'}))\n",
            "========================\n",
            "\n",
            "=== Calling Function ===\n",
            "Calling function: get_station_location with args: {\"name\": \"Jones Branch & Westbranch Dr\"}\n",
            "> Pandas Instructions:\n",
            "```\n",
            "df[df['station_name'] == 'Jones Branch & Westbranch Dr']['geometry'].values[0].y\n",
            "```\n",
            "> Pandas Output: 38.931911\n",
            "> Pandas Instructions:\n",
            "```\n",
            "df[df['station_name'] == 'Jones Branch & Westbranch Dr']['geometry'].x.iloc[0]\n",
            "```\n",
            "> Pandas Output: -77.219261\n",
            "Got output: (Response(response='38.931911', source_nodes=[], metadata={'pandas_instruction_str': \"df[df['station_name'] == 'Jones Branch & Westbranch Dr']['geometry'].values[0].y\", 'raw_pandas_output': '38.931911'}), Response(response='-77.219261', source_nodes=[], metadata={'pandas_instruction_str': \"df[df['station_name'] == 'Jones Branch & Westbranch Dr']['geometry'].x.iloc[0]\", 'raw_pandas_output': '-77.219261'}))\n",
            "========================\n",
            "\n",
            "=== Calling Function ===\n",
            "Calling function: distance with args: {\"lat1\":38.840107,\"lon1\":-76.9753,\"lat2\":38.931911,\"lon2\":-77.219261}\n",
            "Got output: 14.597877492197604\n",
            "========================\n",
            "\n"
          ]
        }
      ]
    },
    {
      "cell_type": "code",
      "source": [
        "print(response.response)"
      ],
      "metadata": {
        "colab": {
          "base_uri": "https://localhost:8080/"
        },
        "id": "KIAb6_VQcPsS",
        "outputId": "44e76776-699e-4498-d2c5-55ae9c03a19f"
      },
      "execution_count": 70,
      "outputs": [
        {
          "output_type": "stream",
          "name": "stdout",
          "text": [
            "The distance between the station named Southern Ave Metro and the station named Jones Branch & Westbranch Dr is approximately 14.60 miles.\n"
          ]
        }
      ]
    },
    {
      "cell_type": "markdown",
      "source": [
        "## Route object"
      ],
      "metadata": {
        "id": "k-Qeshhuky0n"
      }
    },
    {
      "cell_type": "code",
      "source": [
        "# a collection of bikeshare reservations\n",
        "routes = {}\n",
        "\n",
        "# define a Route class representing a bikeshare use and tools for working with Routes\n",
        "class Route(BaseModel):\n",
        "  start_station_name: Optional[str] = None\n",
        "  end_station_name: Optional[str] = None\n",
        "  start_station_id: Optional[str] = None\n",
        "  end_station_id: Optional[str] = None\n",
        "  start_station_latitude: Optional[float] = None\n",
        "  start_station_longitude: Optional[float] = None\n",
        "  end_station_latitude: Optional[float] = None\n",
        "  end_station_longitude: Optional[float] = None\n",
        "  distance: Optional[float] = None\n",
        "\n",
        "def create_route(start_station_id: str, end_station_id: str, start_station_name: str, end_station_name: str) -> str:\n",
        "  key = start_station_id + '_to_' + start_station_id\n",
        "  routes[key] = Route()\n",
        "  setattr(routes[key], 'start_station_id', start_station_id)\n",
        "  setattr(routes[key], 'end_station_id', end_station_id)\n",
        "  setattr(routes[key], 'start_station_name', start_station_name)\n",
        "  setattr(routes[key], 'end_station_name', end_station_name)\n",
        "  return \"\"\"Route for \"\"\" + key + \"\"\" created.\"\"\"\n",
        "\n",
        "def update_route(key: str, property1: str, value: float) -> str:\n",
        "    route = routes[key]\n",
        "    setattr(route, property1, value)\n",
        "    return f\"Route {key} updated with {property1} = {value}\"\n",
        "\n",
        "def get_route_state(key: str) -> str:\n",
        "    return str(routes[key].dict())\n",
        "\n",
        "\n",
        "create_route_tool = FunctionTool.from_defaults(fn=create_route\n",
        "                                               , name='create_route'\n",
        "                                               , description='Creates a Route object and adds it to the routes dictionary')\n",
        "update_route_tool = FunctionTool.from_defaults(fn=update_route\n",
        "                                               , name='update_route'\n",
        "                                               , description='updates a Route objects properties given the key')\n",
        "get_route_state_tool = FunctionTool.from_defaults(fn=get_route_state\n",
        "                                                  , name='get_route_state'\n",
        "                                                  , description='gets the state of the routes properties given the key')"
      ],
      "metadata": {
        "id": "RgZdwP7Ek3SG"
      },
      "execution_count": 71,
      "outputs": []
    },
    {
      "cell_type": "markdown",
      "source": [
        "## Main agent"
      ],
      "metadata": {
        "id": "qI1GYXAFkgyx"
      }
    },
    {
      "cell_type": "code",
      "source": [
        "prefix_messages = [\n",
        "    ChatMessage(\n",
        "        role=\"system\",\n",
        "        content=(\n",
        "            f\"\"\"You are a helpful assistent who is connected to the route system and helping with making a Route.\n",
        "            The Route will have information about the stations and the distance between them.\n",
        "            The user will provide you with the starting address and ending address.\n",
        "            You will need to do the following:\n",
        "\n",
        "            1. Get the latitude and longitude of the location of the starting address.\n",
        "            2. Get the latitude and longitude of the location of the ending address.\n",
        "            3. Find the id and station name for the station that is the nearest to the starting address location.\n",
        "            4. Find the id and station name the station that is the nearest to the ending address location.\n",
        "            5. Determine the distance of the route.\n",
        "            6. Confirm that the route is acceptable to the User.\n",
        "            7. If the user accepts the route, then Create a Route object with the start_station_id, start_station_name, end_station_id, end_station_name.\n",
        "            8. Update the Route object with the distance.\n",
        "\n",
        "            \"\"\"\n",
        "        ),\n",
        "    )\n",
        "]"
      ],
      "metadata": {
        "id": "6dovF3TheuHu"
      },
      "execution_count": 72,
      "outputs": []
    },
    {
      "cell_type": "code",
      "source": [
        "main_agent = OpenAIAgent.from_tools(\n",
        "            tools=[\n",
        "                location_tool, station_location_tool, distance_tool\n",
        "                , nearest_station_tool, create_route_tool, update_route_tool\n",
        "                , get_route_state_tool\n",
        "            ],\n",
        "            prefix_messages=prefix_messages,\n",
        "            # max_function_calls=100,\n",
        "            # allow_parallel_tool_calls=False,\n",
        "            verbose=True,\n",
        "        )"
      ],
      "metadata": {
        "id": "CAaMfZOteuKA"
      },
      "execution_count": 73,
      "outputs": []
    },
    {
      "cell_type": "markdown",
      "source": [
        "## Agent Chat"
      ],
      "metadata": {
        "id": "8elOIm-Dt_JA"
      }
    },
    {
      "cell_type": "code",
      "source": [
        "response = main_agent.chat(\"\"\"\n",
        "I want to find a route using CaBi between two addresses. Can you help me please\n",
        "\"\"\")"
      ],
      "metadata": {
        "colab": {
          "base_uri": "https://localhost:8080/"
        },
        "id": "MyjlmMfUeuQV",
        "outputId": "ca10768f-592c-4c04-a20e-d18985dd792c"
      },
      "execution_count": 74,
      "outputs": [
        {
          "output_type": "stream",
          "name": "stdout",
          "text": [
            "Added user message to memory: \n",
            "I want to find a route using CaBi between two addresses. Can you help me please\n",
            "\n"
          ]
        }
      ]
    },
    {
      "cell_type": "code",
      "source": [
        "print(response.response)"
      ],
      "metadata": {
        "colab": {
          "base_uri": "https://localhost:8080/"
        },
        "id": "P8hFW4cgeuTD",
        "outputId": "b5e8b692-63d7-4bff-d8f9-df059cf496fa"
      },
      "execution_count": 75,
      "outputs": [
        {
          "output_type": "stream",
          "name": "stdout",
          "text": [
            "Of course! I can assist you in finding a route using Capital Bikeshare (CaBi) between two addresses. Please provide me with the starting address and the ending address for the route.\n"
          ]
        }
      ]
    },
    {
      "cell_type": "code",
      "source": [
        "response = main_agent.chat(\"\"\"\n",
        "I want to start at Pike & Rose, North Bethesda MD 20852 and end at 10 Center Dr, Bethesda, MD 20814\n",
        "\"\"\")"
      ],
      "metadata": {
        "id": "KOl3knlveuV1",
        "colab": {
          "base_uri": "https://localhost:8080/"
        },
        "outputId": "2deaa40f-7131-4dd9-e483-88cc53e4d105"
      },
      "execution_count": 76,
      "outputs": [
        {
          "output_type": "stream",
          "name": "stdout",
          "text": [
            "Added user message to memory: \n",
            "I want to start at Pike & Rose, North Bethesda MD 20852 and end at 10 Center Dr, Bethesda, MD 20814\n",
            "\n",
            "=== Calling Function ===\n",
            "Calling function: get_location with args: {\"address\":\"Pike & Rose, North Bethesda MD 20852\"}\n",
            "Pike & Rose, North Bethesda, Montgomery County, Maryland, United States\n",
            "Got output: (39.0507958, -77.11700105906954)\n",
            "========================\n",
            "\n",
            "=== Calling Function ===\n",
            "Calling function: get_location with args: {\"address\":\"10 Center Dr, Bethesda, MD 20814\"}\n",
            "NIH Clinical Center, 10, Center Drive, Battery Lane, Pooks Hill, East Bethesda, Montgomery County, Maryland, 20892, United States\n",
            "Got output: (39.0016448, -77.10454223658931)\n",
            "========================\n",
            "\n",
            "=== Calling Function ===\n",
            "Calling function: nearest_station_tool with args: {\"latitude\": 39.0507958, \"longitude\": -77.11700105906954}\n",
            "Got output: (np.int64(32083), 'Rockville Pike & Rose Ave')\n",
            "========================\n",
            "\n",
            "=== Calling Function ===\n",
            "Calling function: nearest_station_tool with args: {\"latitude\": 39.0016448, \"longitude\": -77.10454223658931}\n",
            "Got output: (np.int64(99999), 'DLA')\n",
            "========================\n",
            "\n",
            "=== Calling Function ===\n",
            "Calling function: distance with args: {\"lat1\":39.0507958,\"lon1\":-77.11700105906954,\"lat2\":39.0016448,\"lon2\":-77.10454223658931}\n",
            "Got output: 3.456178524441083\n",
            "========================\n",
            "\n"
          ]
        }
      ]
    },
    {
      "cell_type": "code",
      "source": [
        "print(response.response)"
      ],
      "metadata": {
        "colab": {
          "base_uri": "https://localhost:8080/"
        },
        "id": "dhb4xnz-7npS",
        "outputId": "8335d2b7-3bbd-467b-cec0-6e80c7475e37"
      },
      "execution_count": 77,
      "outputs": [
        {
          "output_type": "stream",
          "name": "stdout",
          "text": [
            "The distance between the starting station (Rockville Pike & Rose Ave) and the ending station (DLA) is approximately 3.46 miles.\n",
            "\n",
            "Would you like to proceed with this route?\n"
          ]
        }
      ]
    },
    {
      "cell_type": "code",
      "source": [
        "# check to see if the reservation has been made\n",
        "routes"
      ],
      "metadata": {
        "colab": {
          "base_uri": "https://localhost:8080/"
        },
        "id": "3wbIWBro7nsF",
        "outputId": "0feca0d0-c017-49bd-d284-4a1e4fabdd09"
      },
      "execution_count": 78,
      "outputs": [
        {
          "output_type": "execute_result",
          "data": {
            "text/plain": [
              "{}"
            ]
          },
          "metadata": {},
          "execution_count": 78
        }
      ]
    },
    {
      "cell_type": "code",
      "source": [
        "response = main_agent.chat('Yes please')"
      ],
      "metadata": {
        "id": "2E0aBquCeuYO",
        "colab": {
          "base_uri": "https://localhost:8080/"
        },
        "outputId": "5cf8ed92-5cfe-4592-dba1-b8d472461172"
      },
      "execution_count": 79,
      "outputs": [
        {
          "output_type": "stream",
          "name": "stdout",
          "text": [
            "Added user message to memory: Yes please\n",
            "=== Calling Function ===\n",
            "Calling function: create_route with args: {\"start_station_id\":\"32083\",\"end_station_id\":\"99999\",\"start_station_name\":\"Rockville Pike & Rose Ave\",\"end_station_name\":\"DLA\"}\n",
            "Got output: Route for 32083_to_32083 created.\n",
            "========================\n",
            "\n"
          ]
        }
      ]
    },
    {
      "cell_type": "code",
      "source": [
        "print(response.response)"
      ],
      "metadata": {
        "colab": {
          "base_uri": "https://localhost:8080/"
        },
        "id": "H1J8BOACNs5z",
        "outputId": "7ce4ab16-b6f5-47e8-82dc-fd1afeb68908"
      },
      "execution_count": 80,
      "outputs": [
        {
          "output_type": "stream",
          "name": "stdout",
          "text": [
            "The route has been successfully created from Rockville Pike & Rose Ave to DLA with a distance of 3.46 miles. \n",
            "\n",
            "If you need any more assistance or information, feel free to ask!\n"
          ]
        }
      ]
    },
    {
      "cell_type": "code",
      "source": [
        "# check to see if our reservation is completed.\n",
        "routes"
      ],
      "metadata": {
        "colab": {
          "base_uri": "https://localhost:8080/"
        },
        "id": "bnJ4R0p3Ns9y",
        "outputId": "ed379f34-db45-4911-8e9d-a077f28f139a"
      },
      "execution_count": 81,
      "outputs": [
        {
          "output_type": "execute_result",
          "data": {
            "text/plain": [
              "{'32083_to_32083': Route(start_station_name='Rockville Pike & Rose Ave', end_station_name='DLA', start_station_id='32083', end_station_id='99999', start_station_latitude=None, start_station_longitude=None, end_station_latitude=None, end_station_longitude=None, distance=None)}"
            ]
          },
          "metadata": {},
          "execution_count": 81
        }
      ]
    },
    {
      "cell_type": "code",
      "source": [],
      "metadata": {
        "id": "WfwS24hmQhCn"
      },
      "execution_count": 81,
      "outputs": []
    },
    {
      "cell_type": "code",
      "source": [],
      "metadata": {
        "id": "ITY-f-TKQhFR"
      },
      "execution_count": 81,
      "outputs": []
    },
    {
      "cell_type": "code",
      "source": [
        "data.station_name.unique()"
      ],
      "metadata": {
        "colab": {
          "base_uri": "https://localhost:8080/"
        },
        "id": "9pc5BEr5cPu4",
        "outputId": "b15f3f13-15a3-40bf-cf7e-74215b3a784f"
      },
      "execution_count": 82,
      "outputs": [
        {
          "output_type": "execute_result",
          "data": {
            "text/plain": [
              "array(['8th & F St NE', 'Massachusetts Ave & Dupont Circle NW',\n",
              "       'Columbia Rd & Belmont St NW', 'New Hampshire Ave & 24th St NW',\n",
              "       \"L'Enfant Plaza / 7th & C St SW\", '2nd St & Massachusetts Ave NE',\n",
              "       '11th & O St NW', '7th & K St NE', '17th & Corcoran St NW',\n",
              "       '17th & K St NW', '4th & D St NW / Judiciary Square',\n",
              "       '8th & V St NW', '3rd & H St NW', '16th & Irving St NW',\n",
              "       'Eisenhower Ave & Mill Race Ln', '5th & K St NW',\n",
              "       'Mt Vernon Trail & S. Washington St.', 'Fenton St & Ellsworth Dr',\n",
              "       'N Veitch St & 20th St N', '16th & Harvard St NW',\n",
              "       '10th & U St NW', 'Fairfax Dr & N Randolph St', '17th & G St NW',\n",
              "       'Langston Blvd & N Cleveland St', '5th St & Massachusetts Ave NW',\n",
              "       'Long Bridge Aquatic Center', '15th & L St NW',\n",
              "       'Columbus Circle / Union Station', '8th & O St NW',\n",
              "       '18th & L St NW', '14th & Irving St NW',\n",
              "       'New Hampshire Ave & Ward Pl NW', '15th St & Massachusetts Ave SE',\n",
              "       '18th St & Pennsylvania Ave NW', '20th St & Florida Ave NW',\n",
              "       '7th & K St NW', 'Georgia Ave & Dahlia St NW',\n",
              "       'Woodmont Ave & Strathmore St', 'New Jersey Ave & F St NW',\n",
              "       'Georgia & Missouri Ave NW', 'Kansas Ave & Longfellow St NW',\n",
              "       'Georgia Ave & Kennedy St NW', 'Glebe Rd & 11th St N',\n",
              "       'Pentagon City Metro / 12th St & S Hayes St',\n",
              "       '34th St & Wisconsin Ave NW', '18th & M St NW',\n",
              "       '28th St & S Meade St', 'S Scott St & 13th St S',\n",
              "       '7th & F St NW / National Portrait Gallery',\n",
              "       'Georgia Ave & Morton St NW', 'Park Rd & Holmead Pl NW',\n",
              "       '7th St & Florida Ave NW', '1st & I St SE',\n",
              "       '17th St & New York Ave NW', '3rd St & Pennsylvania Ave SE',\n",
              "       'Smithsonian-National Mall / Jefferson Dr & 12th St SW',\n",
              "       '17th St & Rhode Island Ave NW', '14th & L St NW', '4th & G St SW',\n",
              "       '10th & E St NW',\n",
              "       'Ohio Dr & West Basin Dr SW / MLK & FDR Memorials',\n",
              "       'Hamlin & 7th St NE', 'Arlington Blvd & S George Mason Dr',\n",
              "       'Columbia Rd & Georgia Ave NW', 'Lamont & Mt Pleasant NW',\n",
              "       'Half & I St SW', 'Montello Ave & Holbrook Terr NE',\n",
              "       '20th & O St NW / Dupont South', '20th St & Columbia Rd NW',\n",
              "       '23rd & E St NW', '14th & Girard St NW',\n",
              "       '14th St & Rhode Island Ave NW', '3rd & N St NE',\n",
              "       'Woodley Park Metro / Calvert St & Connecticut Ave NW',\n",
              "       'N. Beauregard St. & Berkley St.', 'Medical Center Metro',\n",
              "       'Tanger Outlets', 'Whiting & Lane Dr',\n",
              "       'Wilson Blvd & N Vermont St', 'M St & Pennsylvania Ave NW',\n",
              "       '2nd St & Seaton Pl NE', 'Tanner Park', 'Union Market',\n",
              "       '9th St & Pennsylvania Ave NW', '6th & K St NE', '1st & L St NW',\n",
              "       'New Jersey Ave & H St SE', '8th & H St NE',\n",
              "       '12th St & Pennsylvania Ave SE', '1st & K St NE',\n",
              "       'Metro Center / 12th & G St NW', '4th & East Capitol St NE',\n",
              "       'Joliet St & MLK Ave SW/Bald Eagle Rec Ctr',\n",
              "       'Maine Ave & 9th St SW', '14th & D St NW / John A Wilson Building',\n",
              "       '15th & Euclid St NW', 'King St & Patrick St',\n",
              "       'Clarendon Metro / Wilson Blvd & N Highland St',\n",
              "       'Bethesda Metro / Wisconsin Ave & Old Georgetown Rd',\n",
              "       '33rd St & Wisconsin Ave NW', 'S Wayne St and 9th St S',\n",
              "       'N Pershing Dr & N Wayne St', 'Hains Point/Buckeye & Ohio Dr SW',\n",
              "       'Maryland Ave & 17th St NE', '16th & R St NW',\n",
              "       'Library St & Freedom Dr', 'Florida Ave & R St NW',\n",
              "       'Ballston Metro / Stuart St & 9th St N', '14th & Otis Pl NW',\n",
              "       'Wilson Blvd & N Uhle St', '4th & E St SW',\n",
              "       'Whitehaven Pkwy & Foxhall Rd NW / GWU Mt. Vernon',\n",
              "       'Langston Blvd & N Woodstock St', '21st St & Pennsylvania Ave NW',\n",
              "       'Roosevelt Island', 'Maine Ave & 7th St SW',\n",
              "       'Reservoir Rd & 38th St NW', '12th & U St NW',\n",
              "       '14th & Upshur St NW',\n",
              "       'Westover Library / Washington Blvd & N McKinley Rd',\n",
              "       '10th & K St NW', '10th & G St NW', '11th & Park Rd NW',\n",
              "       '11th & Clifton St NW', '37th & Ely Pl SE', '22nd & H St NW',\n",
              "       'Columbia Pike & W&OD Trail', 'Lincoln Memorial',\n",
              "       '16th & K St NW/BLM Plaza', 'Arizona Ave & MacArthur Blvd NW',\n",
              "       'Anacostia Library', '6th St & Indiana Ave NW',\n",
              "       'Connecticut Ave & Yuma St NW', 'Randle Circle & Minnesota Ave SE',\n",
              "       '19th St N & Ft Myer Dr', 'Marion Barry Ave & Naylor Rd SE',\n",
              "       'Crystal Dr & 20th St S', '15th & K St NW', '13th & H St NE',\n",
              "       'Central Library / Quincy St & 10th St N',\n",
              "       'Connecticut & Nebraska Ave NW', '1st & O St NW',\n",
              "       '11th & Girard St NW', 'Takoma Metro',\n",
              "       '16th St & North Carolina Ave NE', 'M St & Delaware Ave NE',\n",
              "       '22nd & P ST NW', 'Eastern Market Metro', '17th & P St NW',\n",
              "       'North Capitol St & G Pl NE', '14th & Quincy St NW',\n",
              "       '12th & L St NW', 'Edgewood Rec Center', '24th & N St NW',\n",
              "       '3rd & M St SE', '15th St & Pennsylvania Ave NW',\n",
              "       'Eastern Market / 7th & North Carolina Ave SE',\n",
              "       'Connecticut Ave & R St NW',\n",
              "       'Connecticut Ave & Ordway St NW / Cleveland Park Metro',\n",
              "       'Constitution Ave & 2nd St NW/DOL',\n",
              "       'Massachusetts Ave & 6th St NE', 'Potomac & M St NW',\n",
              "       'Carlin Springs Rd & N Thomas St', 'Wilson Blvd & N Oak St',\n",
              "       'Langston Blvd & N Scott St', '20th & E St NW',\n",
              "       'Convention Center / 7th & M St NW', '23rd & M St NW',\n",
              "       'New Mexico & Cathedral Ave NW', '9th & Ingraham St NW',\n",
              "       '8th & D St NW', '15th & P St NW',\n",
              "       'Connecticut Ave & Chevy Chase Lake Dr',\n",
              "       'Arlington Blvd & Ft Myer Dr', '11th & S St NW',\n",
              "       'Wisconsin Ave & Brandywine St NW',\n",
              "       'Rhode Island & Connecticut Ave NW', 'Kennebec St & 11th St N',\n",
              "       'Thomas Jefferson St NW & Water/K St NW', 'Trinidad Rec Center',\n",
              "       'Hardy Rec Center', '11th & C St SE',\n",
              "       'American University East Campus', '8th & H St NW',\n",
              "       'N Veitch St & Key Blvd', 'Oglethorpe St & 42nd Ave',\n",
              "       'Oklahoma Ave & Benning Rd NE', 'East West Hwy & 16th St',\n",
              "       '10th St & Florida Ave NW', 'Eads St & 12th St S',\n",
              "       'St Asaph & Pendleton St', 'Eads St & 15th St S',\n",
              "       'Georgia Ave & Fairmont St NW', 'Oklahoma Ave & D St NE',\n",
              "       '10th St & Spring Rd NW', 'Vienna Metro South',\n",
              "       'Clarendon Blvd & Pierce St', 'Capitol Ave & Kendall St NE',\n",
              "       '17th & Upshur St NW', '10th & Quincy St NE / Turkey Thicket Rec',\n",
              "       '3rd & H St NE', 'Colorado Ave & Longfellow St NW',\n",
              "       'Columbia & Ontario Rd NW', 'Calvert St & Woodley Pl NW',\n",
              "       'Virginia Ave & C St NW', 'Neal St & Trinidad Ave NE',\n",
              "       '13th & D St NE', '18th St & Wyoming Ave NW',\n",
              "       '1st & Rhode Island Ave NW', '6th & H St NE',\n",
              "       'North Bethesda Metro', 'McLean Metro',\n",
              "       'North Capitol St & F St NW', 'Park Pl & Rock Creek Church Rd NW',\n",
              "       'New York Ave & Hecht Ave NE', 'Largo Town Center Metro',\n",
              "       'Potomac Greens Dr & Slaters Ln',\n",
              "       'Crystal City Metro / 18th St & S Bell St',\n",
              "       'Mount Vernon Ave & E Del Ray Ave', 'Briggs Chaney & Castle Dr',\n",
              "       'Potomac Ave & 35th St S', 'Wisconsin Ave & O St NW',\n",
              "       '39th St & Tunlaw Rd NW', '3rd & D St SE', '19th & E Street NW',\n",
              "       'Holmes Run Pkwy & N Pickett St',\n",
              "       'Nannie Helen Burroughs & Minnesota Ave NE', '3rd & G St SE',\n",
              "       '17th & K St NW / Farragut Square',\n",
              "       '39th & Calvert St NW / Stoddert', 'Fenton St & Gist Ave',\n",
              "       '8th & Eye St SE / Barracks Row', '19th St & Constitution Ave NW',\n",
              "       'Half & Water St SW', 'Stadium Armory Metro',\n",
              "       'M St & New Jersey Ave SE', '15th & F St NE',\n",
              "       '8th & East Capitol St NE', '1st St & Potomac Ave SE',\n",
              "       '1st & N St SE', 'MLK & Marion Barry Ave SE',\n",
              "       'Potomac Ave & 8th St SE', '12th St & New York Ave NW',\n",
              "       '9th & N St NW', 'Thomas Circle', '18th & R St NW',\n",
              "       'Henry St & Pendleton St', '22nd & I St NW / Foggy Bottom',\n",
              "       '14th & Harvard St NW', 'Franconia-Springfield Metro North',\n",
              "       'North Capitol & R St NE', '5th & F St NW',\n",
              "       'Crystal Dr & 23rd St S', '18th & C St NW',\n",
              "       'Riggs Rd & East West Hwy', '15th & M St NW',\n",
              "       '14th St & Luzon Ave NW', 'Norfolk Ave & Fairmont St',\n",
              "       '1st & H St NW', 'Anacostia Roller Skating Pavilion',\n",
              "       '10th St & Constitution Ave NW', '11th & F St NW',\n",
              "       'New Jersey Ave & N St NW/Dunbar HS',\n",
              "       'Georgia Ave & Emerson St NW', 'New Jersey Ave & K St NW',\n",
              "       '21st & I St NW', '7th St & Massachusetts Ave NE',\n",
              "       '14th & Newton St NW', '3rd & Tingey St SE',\n",
              "       'Fort Lincoln Dr & 33rd Pl NE', '19th & I St NW',\n",
              "       '12th & Irving St NE', 'Calvert & Biltmore St NW',\n",
              "       '18th & New Hampshire Ave NW', '13th & O St NW/ Logan Circle',\n",
              "       '13th & E St SE', 'Grant Circle',\n",
              "       '36th & Calvert St NW / Glover Park',\n",
              "       '22nd St & Constitution Ave NW', 'King Greenleaf Rec Center',\n",
              "       '1st & Washington Hospital Center NW',\n",
              "       'Connecticut Ave & Tilden St NW',\n",
              "       'John McCormack Rd & Michigan Ave NE', '20th & L St NW',\n",
              "       'Virginia Ave & 25th St NW', 'S Glebe Rd & Potomac Ave',\n",
              "       '14th St & New York Ave NW', '9th & G St NW',\n",
              "       'Tenleytown / Wisconsin Ave & Albemarle St NW',\n",
              "       '11th & Kenyon St NW', '18th St & Ingleside Ter NW',\n",
              "       'Old Georgetown Rd & Southwick St', 'Vermont Ave & I St NW',\n",
              "       '4th St & Madison Dr NW', '11th & M St NW', '21st St & G st NW',\n",
              "       '7th & R St NW / Shaw Library', 'Kansas Ave & Sherman Cr NW',\n",
              "       '17th St & Potomac Ave SE / Congressional Cemetery',\n",
              "       'Mount Vernon Ave & Four Mile Run Park',\n",
              "       'E Fairfax St & S Washington St',\n",
              "       'Mount Vernon Ave & E Nelson Ave', '4th St & Mississippi Ave SE',\n",
              "       '25th St & Pennsylvania Ave NW', '4th & C St SW',\n",
              "       'S Maple Ave & S Washington St', 'Wisconsin Ave & Upton St NW',\n",
              "       '10th & H St NE', 'Washington Blvd & 7th St N',\n",
              "       'Clark St & 26th St S', 'Washington & Independence Ave SW/HHS',\n",
              "       'Arlington National Cemetery', '19th St & Pennsylvania Ave NW',\n",
              "       'Potomac Ave & Main Line Blvd', 'N Lynn St & Fairfax Dr',\n",
              "       '1st & M St SE', '15th St & New York Ave NW',\n",
              "       '10th & Monroe St NE', 'GMU/Fairfax Dr & Kenmore St',\n",
              "       'Maryland Ave & E St NE', 'Sligo Ave & Carroll Ln',\n",
              "       'Town Center Pkwy & Sunset Hills Rd',\n",
              "       'New Dominion Pkwy & Fountain Dr', '4th & College St NW',\n",
              "       '7th & Monroe St NE', 'Crystal Dr & 15th St S',\n",
              "       'California St & Florida Ave NW', 'Joyce St & 16th St S',\n",
              "       'Adams Mill & Columbia Rd NW',\n",
              "       'Gallaudet / 8th St & Florida Ave NE',\n",
              "       '18th St & Rhode Island Ave NE', 'Georgia & New Hampshire Ave NW',\n",
              "       'First St & Fayette St', 'Main Line Blvd & E Glebe',\n",
              "       'Commonwealth Ave & Oak St', 'Franklin St & S Washington St',\n",
              "       'Potomac Yard Metro South', 'Wilson Blvd & N Franklin Rd',\n",
              "       '16th & Q St SE / Anacostia HS',\n",
              "       'Iwo Jima Memorial / Meade & 14th St N', '39th & Veazey St NW',\n",
              "       'MBT & Bryant St NE', 'Clarendon Blvd & N Fillmore St',\n",
              "       '21st St & N Pierce St', 'Fairfax Dr & N Taylor St',\n",
              "       'New Jersey Ave & R St NW', '20th St & Virginia Ave NW',\n",
              "       'Benning Branch Library', 'Stanton Square SE',\n",
              "       'Connecticut Ave & Macomb St NW / Cleveland Park',\n",
              "       'Anacostia Metro', 'Virginia Square Metro / Monroe St & 9th St N',\n",
              "       '7th & S St NW', 'Lincoln Park / 13th & East Capitol St NE',\n",
              "       'Montgomery Ave & Waverly St', 'Eckington Pl & Q St NE',\n",
              "       'Friendship Hts Metro / Wisconsin Ave & Wisconsin Cir',\n",
              "       'Baron Cameron Ave & North Hampton Ave', 'N Quincy St & Glebe Rd',\n",
              "       'George Mason Dr & Wilson Blvd', 'New Hampshire Ave & T St NW',\n",
              "       '14th & V St NW', '3000 Connecticut Ave NW / National Zoo',\n",
              "       'Wilson Blvd & N Troy St', 'King St & N Pitt St',\n",
              "       'S Pickett St & Shillings St',\n",
              "       'W&OD Trail & Explorer St/Reston Bus Station',\n",
              "       '8th Rd & S Frederick St', '4th & O St SW', 'Fort Totten Metro',\n",
              "       'Columbia Pike & S Greenbrier St', 'N Hampton Dr & Ford Ave',\n",
              "       'Langston Blvd & N Adams St',\n",
              "       'S Four Mile Run Dr & Walter Reed Dr',\n",
              "       'Columbia Pike & S George Mason Dr', 'Duke St & John Carlyle St',\n",
              "       'Rhode Island Ave & V St NE', 'Congress Heights Metro',\n",
              "       'Washington Blvd & Walter Reed Dr',\n",
              "       'Rhode Island Ave & 39th St / Brentwood Arts Exchange',\n",
              "       'Rosslyn Metro / Wilson Blvd & N Moore St', '9th & Upshur St NW',\n",
              "       '15th & W St NW', 'Wisconsin Ave & Newark St NW',\n",
              "       'Prosperity Ave & Avenir Pl', 'Georgetown Harbor / 30th St NW',\n",
              "       'Wisconsin Ave & Ingomar St NW', 'Rhode Island Ave Metro',\n",
              "       '4th & Florida Ave NE', '4th & M St SW', '2nd & G St NE',\n",
              "       'King St & Peyton St',\n",
              "       'Baltimore Ave & Van Buren St / Riverdale Park Station',\n",
              "       'Kennedy Center', 'Northwestern High School',\n",
              "       'John McCormack Rd NE', 'Founders Row/W Broad St & West St',\n",
              "       'Rolfe St & 9th St S', '15th St & Constitution Ave NW',\n",
              "       'Mandeville Ln & Stovall St', '1st & D St SE',\n",
              "       'South Dakota Ave & Bladensburg Rd NE',\n",
              "       '2nd & V St SW / James Creek Marina', 'Monroe Ave & Leslie Ave',\n",
              "       'Maine Ave & Water St SW', 'Van Ness Metro / UDC',\n",
              "       'Wilson Blvd & N Edgewood St',\n",
              "       'Henry Bacon Dr & Lincoln Memorial Circle NW',\n",
              "       'School St & George Mason Blvd', 'Royal St & Wilkes St',\n",
              "       'Potomac & Pennsylvania Ave SE', '44th St & New Mexico Ave NW',\n",
              "       'National Airport', '37th & O St NW / Georgetown University',\n",
              "       'Bladensburg Waterfront Park', '19th & East Capitol St SE',\n",
              "       '3rd & Elm St NW', '13th & U St NW', '1st & M St NE',\n",
              "       'King St Metro North / Cameron St', 'Braddock Rd Metro South',\n",
              "       'Waterfront Park', 'Virginia Hospital Center',\n",
              "       'Livingston Rd & 3rd St SE',\n",
              "       \"Independence Ave & L'Enfant Plaza SW/DOE\",\n",
              "       'Carroll & Westmoreland Ave', '14th & R St NW',\n",
              "       'North Capitol & Douglas St NW / Reservoir Park Rec',\n",
              "       'Commonwealth and Reed', 'Court House Metro / 15th St & N Uhle St',\n",
              "       '5th & Morse St NE', '4th & M St SE', 'Fleet St & Waterfront St',\n",
              "       '14th & G St NW', '14th & Q St NW',\n",
              "       'Benning Rd & East Capitol St NE / Benning Rd Metro',\n",
              "       'Wilson Blvd & N Quinn St', 'Prince St & Union St',\n",
              "       'Capitol Heights Metro', 'Langston Blvd & N Monroe St',\n",
              "       'Wilson Blvd & Ft Myer Dr', '21st & E St NW', 'Dunn Loring Metro',\n",
              "       'Columbia Pike & S Walter Reed Dr', 'Fenton St & New York Ave',\n",
              "       'Spring St & 2nd Ave', 'W Columbia St & N Washington St',\n",
              "       'District Ave & Strawberry Ln/Mosaic Market Garage',\n",
              "       '14th St & Marion Barry Ave SE', 'Wisconsin Ave & K St NW',\n",
              "       'Potomac Ave & Half St SW', 'Wisconsin Ave & Rodman St NW',\n",
              "       'Lincoln Rd & Seaton Pl NE/Harry Thomas Rec Center',\n",
              "       'GMU/Horizon Hall & Harris Theater', 'GMU/Patriot Cir & York Dr',\n",
              "       'Washington Blvd & 10th St N', '23rd St S & Hayes St',\n",
              "       'Long Bridge Park / Long Bridge Dr & 6th St S',\n",
              "       '13th St & New York Ave NW',\n",
              "       'Aurora Hills Cmty Ctr / 18th St & S Hayes St',\n",
              "       'National Harbor Carousel', 'Gravelly Point',\n",
              "       \"Prince George's Plaza Metro\", 'Maple & Ritchie Ave',\n",
              "       '11th & V St NW', 'Wiehle-Reston Metro South',\n",
              "       'Arlington Mill Cmty Center / Columbia Pike & S Dinwiddie St',\n",
              "       'Powhatan St & Bashford Ln', 'W&OD Trail & Langston Blvd',\n",
              "       'Rhodes St & 16th St N',\n",
              "       '14th St Heights / 14th & Crittenden St NW',\n",
              "       'N Roosevelt St & Roosevelt Blvd',\n",
              "       'Market Square / King St & Royal St', 'Wilson Blvd & N Quincy St',\n",
              "       '14th & Belmont St NW', '24th & R St NE / National Arboretum',\n",
              "       'Anacostia Ave & Benning Rd NE / River Terrace',\n",
              "       'TJ Cmty Ctr / 2nd St & S Old Glebe Rd',\n",
              "       'Columbia Pike & S Courthouse Rd',\n",
              "       'Anacostia Ave & East Capitol St NE',\n",
              "       'Langston Blvd & N Kirkwood Rd', 'W Broad St & Little Falls St',\n",
              "       'Bladensburg Rd & Benning Rd NE', 'Potomac Ave & Swann Ave',\n",
              "       '15th St & N Scott St', 'Jefferson Memorial',\n",
              "       'S Troy St & 26th St S', 'USDA / 12th & C St SW',\n",
              "       'Saint Asaph St & Madison St', '14th & D St SE',\n",
              "       'Wakefield High School', 'Eisenhower Ave & Ike Dr',\n",
              "       'D St & Maryland Ave NE', 'Massachusetts & Idaho Ave NW',\n",
              "       'Veterans Pl & Pershing Dr', 'Ballenger Ave & Dulaney St',\n",
              "       'The Mall at Prince Georges', 'Battery Ln & Trolley Trail',\n",
              "       'Columbia Pike & Monroe St', 'Columbia Pike & S Highland St',\n",
              "       'Cordell & Norfolk Ave', '10th St & Rhode Island Ave NE',\n",
              "       'Route 29 & Bisvey Dr', '7th & E St SW', '18th & Monroe St NE',\n",
              "       '1st & Q St SW', 'N Pitt St & Montgomery St',\n",
              "       '13th St & Eastern Ave', '17th St & Massachusetts Ave NW',\n",
              "       'Alabama & MLK Ave SE', 'Pennsylvania Ave & Park Ave',\n",
              "       'King St Metro South',\n",
              "       'Walker Mill Road/ Walker Mill Regional Park', 'Reed & Edison',\n",
              "       'S Clark St & 33rd St', 'Fairfax Dr & Wilson Blvd',\n",
              "       'Rockville Metro West', 'Mount Vernon Ave & Kennedy St',\n",
              "       'St. Elizabeths West Campus/DHS',\n",
              "       'East Falls Church Metro / Sycamore St & 19th St N',\n",
              "       'Madrillon Rd & Boss St', 'Greensboro & Pinnacle Dr',\n",
              "       'WAU / Flower Ave & Division St', 'Jones Branch Dr & Blyton St',\n",
              "       'Columbus Ave & Tribeca St', 'North Capitol & K St NE',\n",
              "       'W&OD Trail/Sunset Hills Rd & Old Reston Ave',\n",
              "       '17th St & Independence Ave SW', 'S Wakefield St & 28th St S',\n",
              "       'Rosedale Rec Center', 'Norfolk & Rugby Ave',\n",
              "       'Wilson Blvd & N Illinois St', 'Arlington Blvd & Fairfax Dr',\n",
              "       'Shady Grove Metro East', 'Monroe St & Monroe Pl',\n",
              "       'Jefferson Dr & 14th St SW', 'Connecticut Ave & McKinley St NW',\n",
              "       '4th & W St NE', 'Broad Branch Rd & Northampton St NW',\n",
              "       '15th & East Capitol St NE', 'Washington Blvd & N Frederick St',\n",
              "       'Pimmit Dr & Los Pueblos Ln',\n",
              "       'Glade Dr & Pinecrest Rd/Cathy Hudgins Cmty Ctr',\n",
              "       'N Pershing Dr & N George Mason Dr', 'Reston Pkwy & Spectrum Dr',\n",
              "       '3rd St & Riggs Rd NE', 'Reston YMCA',\n",
              "       'Chillum Rd & Riggs Rd / Riggs Plaza',\n",
              "       'Queens Chapel & Hamilton St', '19th & G St NW',\n",
              "       'West Hyattsville Metro', 'S Jordan St & Venable St',\n",
              "       'Perry & 35th St', 'Friendship Blvd & Willard Ave',\n",
              "       'Old Meadow Rd & Cathy Ln', '24th St & Rhode Island Ave NE',\n",
              "       '34th & Water St NW', 'Guilford Drive & Rowalt Drive / UMD',\n",
              "       'Barcroft Community Center', 'King Farm Blvd & Pleasant Dr',\n",
              "       'East West Hwy & Blair Mill Rd', 'Rockville Pike & Rose Ave',\n",
              "       'Citadel Ave & McGrath Blvd',\n",
              "       'Falls Church City Hall / Park Ave & Little Falls St',\n",
              "       'Old Meadow Rd & Old Meadow Ln', 'N Oak St & W Broad St',\n",
              "       'N Shore Dr & Wainwright Dr', 'Shady Grove Metro West',\n",
              "       'Bowdoin Ave & Calvert Rd/ College Park Station',\n",
              "       \"10th St & L'Enfant Plaza SW\", 'Commonwealth Ave & E Monroe Ave',\n",
              "       'Alabama Ave & Stanton Rd SE / Shops at Park Village',\n",
              "       'Kenilworth Terr & Hayes St. NE', 'Eden Center',\n",
              "       'Kingman Island/The Fields at RFK', '34th St & Minnesota Ave SE',\n",
              "       'Minnesota Ave Metro/DOES', 'Bethesda Ave & Arlington Rd',\n",
              "       '31st St & S Woodrow St', 'University Dr & Democracy Ln',\n",
              "       'Amherst Ave & Elkins St', 'Wheeler Ave & S. Floyd St.',\n",
              "       'Town Center Pkwy & Bowman Towne Dr',\n",
              "       'New Hampshire & Gallatin St NW', '12th & Varnum St NE',\n",
              "       'Mount Vernon Ave & Bruce St', 'Lee Center',\n",
              "       'Silver Spring Transit Center - Top Level', 'White House',\n",
              "       'Silver Spring Metro / Colesville Rd & Wayne Ave',\n",
              "       '1301 McCormick Dr / Wayne K. Curry Admin Bldg',\n",
              "       \"Largo Rd & Campus Way / Prince Georges's Comm Col\",\n",
              "       'Pleasant St & MLK Ave SE', '48th Pl & MacArthur Blvd NW',\n",
              "       'Wheaton Metro / Georgia Ave & Reedie Dr',\n",
              "       'Branch & Pennsylvania Ave SE', 'Harvard St & Adams Mill Rd NW',\n",
              "       'South Capitol St and Southern Ave SE',\n",
              "       'Woodglen Dr & Executive Blvd', 'Pooks Hill Rd & Linden Ave',\n",
              "       'South Dakota Ave & Decatur St NE',\n",
              "       'Wheaton Library & Community Rec Center', 'Army Navy Dr & Fern St',\n",
              "       'S Randolph St & Campbell Ave', 'Arlington Blvd & Allen St',\n",
              "       'Pentagon Row Plaza / Army Navy Dr & Joyce St',\n",
              "       'Arlington Blvd & Fillmore St', 'Rhode Island & Montana Ave NE',\n",
              "       'Yuma St & Tenley Circle NW',\n",
              "       'Washington-Liberty High School / N Stafford St & Generals Way',\n",
              "       'Merrilee Dr & Lauren Elizabeth Lane', 'Crystal Dr & 27th St S',\n",
              "       'Merrifield Cinema & Merrifield Town Center',\n",
              "       'Riverdale Park Town Center', '18th & Upshur St NE',\n",
              "       'S Four Mile Run Dr & Shirlington Rd',\n",
              "       'Baltimore Ave & Jefferson St', 'Fessenden St & Wisconsin Ave NW',\n",
              "       'Duke St & Strand (Robinson Terminal)',\n",
              "       'Market St & St Francis St', 'Commerce St & Fayette St',\n",
              "       'S Washington St & Wilkes St', 'Valley Ave & Wheeler Rd SE',\n",
              "       'River Rd & Landy Ln', '5th & Kennedy St NW',\n",
              "       'Rockville Pike & Old Georgetown Rd', 'South St & University Dr',\n",
              "       'Park Run & Onyx Dr', 'Barton St & 10th St N',\n",
              "       'Reston Station Blvd & Sunset Hills Rd', 'Deanwood Rec Center',\n",
              "       'Reston Town Center Metro South', 'Twinbrook Metro',\n",
              "       'Executive Blvd & E Jefferson St', 'West Falls Church Metro',\n",
              "       'Reston Town Center Metro North',\n",
              "       'Loughboro Rd & Dalecarlia Pkwy NW / Sibley Hospital',\n",
              "       '12th & Newton St NE', 'Hilltop Rd & Willowmere Dr',\n",
              "       'Tysons Metro South', 'South Dakota Ave & 33rd St NE',\n",
              "       'Jones Branch & Westbranch Dr',\n",
              "       'Kansas Ave & Tuckerman St NW / Lamond Rec',\n",
              "       'Castle Blvd & Castle Ln', 'Tysons Metro North',\n",
              "       '40th Ave & Bladensburg Rd', '12th St N & N Pierce St',\n",
              "       'Van Dorn Metro', 'Eads St & 22nd St S', '47th & Elm St',\n",
              "       'Route 29 & Circle Woods Dr', 'Westpark & Park Run Dr',\n",
              "       'Ward Circle / American University', 'N Pershing Dr & N Quebec St',\n",
              "       'Madison St & N Henry St', 'Kenmore Ave & Seminary Rd',\n",
              "       'Marymount University / Yorktown Blvd & 26th St N',\n",
              "       'Columbia Pike & S Orme St', 'Braddock Rd Metro North',\n",
              "       'Southern Ave Metro', 'King Farm Blvd & Piccard Dr',\n",
              "       '3rd & Underwood St NW', 'New Hampshire Ave & East-West Hwy',\n",
              "       'S Arlington Mill Dr & Campbell Ave', 'Fort Stanton Rec Center',\n",
              "       'Fairfax Village', 'Minnesota Ave & R St SE', 'Radford & Osage St',\n",
              "       'Anacostia Park', 'Mississippi Ave & 19th St SE / THEARC',\n",
              "       'Oxon Hill Park & Ride', 'Westbranch & Jones Branch Dr',\n",
              "       'Montgomery College / W Campus Dr & Mannakee St',\n",
              "       'Madison St & Fairfax St',\n",
              "       'W&OD Trail/Sunset Hills Rd & Isaac Newton Sq',\n",
              "       'New Hampshire & Kirklynn Ave',\n",
              "       'Baltimore Avenue and Hotel Drive at UMD',\n",
              "       'GMU/Rappahannock River Ln', 'Seatrend Way & Topsails Ln',\n",
              "       'Congressional Ln & E Jefferson St', '19th & Savannah St SE',\n",
              "       'Vy Reston Heights', 'Offutt Ln & Chevy Chase Dr',\n",
              "       'Georgia Ave & Piney Branch Rd NW',\n",
              "       'Hyattsville Library / Adelphi Rd & Toledo Rd',\n",
              "       'Chain Bridge Rd & Anderson Rd',\n",
              "       'Rhode Island Avenue /Charles Armentrout Drive - Melrose Skate Park',\n",
              "       'The Shoppes @ Burnt Mills', 'Metro Park Dr & Walker Ln',\n",
              "       'King St & W Braddock Rd', 'Western Ave & Pinehurst Cir NW',\n",
              "       '53rd & D St SE/C.W. Harris Elementary',\n",
              "       'Charles Arrington Dr & Manchester Lakes Dr',\n",
              "       'North Shore Dr & Village Rd', 'North Village and Park Garden',\n",
              "       'Blenheim Blvd & North St', 'Michigan Ave & Allison St NE',\n",
              "       'S Kenmore St & 24th St S', 'Crescent Rd & Ridge Rd',\n",
              "       'Temporary Rd & Old Reston Ave',\n",
              "       'Golf Course Sq and Golf Course Dr', 'Carroll & Ethan Allen Ave',\n",
              "       'Lyttonsville Rd & Lyttonsville Pl', '16th & Bangor St SE',\n",
              "       'Hartland Rd & Harte Pl', 'Army Navy Dr & S Nash St',\n",
              "       'Kingsbridge Dr & Draper Dr', 'South Capitol & Atlantic St SW',\n",
              "       '1st & S Capitol St SE / Oxon Run Trail',\n",
              "       'Grandview & Blueridge Ave', 'Woody Ward Rec Center',\n",
              "       'Oak Leaf & Lockwood',\n",
              "       'North Shore & Cameron Crescent Dr/Crescent Apartments',\n",
              "       'Jones Branch Drive & Scotts Crossing Rd',\n",
              "       'Fleet St & Ritchie Pkwy', '25th & S St SE',\n",
              "       'Sunrise Valley Dr & Roland Clarke Pl', 'Greensboro Metro East',\n",
              "       'George Mason Blvd & Armstrong St',\n",
              "       'S George Mason Dr & S Four Mile Run Dr',\n",
              "       'Tyco Rd & Boyd Pointe Way', 'Blueridge Ave & Elkin St',\n",
              "       '41st St & Alabama Ave SE / Fort Davis Rec',\n",
              "       'Dorr Ave & Prosperity Ave', 'Layton Hall Dr & University Dr',\n",
              "       'N Howard St & N Imboden St', 'Emma Lee St & Morris St',\n",
              "       'Traville Gateway Dr & Gudelsky Dr', 'Beech Dr at Draper Dr Park',\n",
              "       'New Hampshire & Lockwood', 'Sunset Hills Rd & Discovery Square',\n",
              "       'Greenbelt Station Parkway', 'Green Range Dr and Glade Dr',\n",
              "       'Garland Ave & Walden Rd', 'N Shore Dr & Bandit Loop',\n",
              "       'Fishers Ln & Rock Creek Mill Rd',\n",
              "       'Pennsylvania & Minnesota Ave SE', 'Gatehouse Rd & Telestar Ct',\n",
              "       'United Medical Center', 'Fillmore & Bisdorf',\n",
              "       'Dennis Ave & Amherst Ave',\n",
              "       'Vaden Dr & Royal Victoria Dr/Jim Scott Cmty Ctr',\n",
              "       'Becontree Ln & Goldenrain Ct', 'Roosevelt Center & Crescent Rd',\n",
              "       'King St & Kenwood Ave', 'Briggs Chaney Park & Ride',\n",
              "       'Pimmit Dr & Idyl Ln', 'Fairfax Blvd & Pickett Rd South',\n",
              "       'South Lakes Dr and Reston Pkwy', 'Westpark Dr & Leesburg Pike',\n",
              "       'Columbus Ave & Gramercy Blvd', 'Fairfax Blvd & Pickett Rd North',\n",
              "       'Division Ave & Foote St NE', 'Rockville Metro East', 'DLA'],\n",
              "      dtype=object)"
            ]
          },
          "metadata": {},
          "execution_count": 82
        }
      ]
    },
    {
      "cell_type": "code",
      "source": [],
      "metadata": {
        "id": "8VW2HvM1cPwf"
      },
      "execution_count": 82,
      "outputs": []
    }
  ]
}